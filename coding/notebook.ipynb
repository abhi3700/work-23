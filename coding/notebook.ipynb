{
 "cells": [
  {
   "cell_type": "code",
   "execution_count": 2,
   "metadata": {},
   "outputs": [],
   "source": [
    "import pandas as pd"
   ]
  },
  {
   "cell_type": "code",
   "execution_count": 62,
   "metadata": {},
   "outputs": [],
   "source": [
    "# df = pd.read_csv(\"../data/dry_etch.csv\")\n",
    "\n",
    "# As the columns cell data contains 'whitespace'. So, just trim it while fetching data.\n",
    "df = pd.read_csv(\"../data/dry_etch.csv\", \n",
    "                 converters={'EquipID': str.strip, \n",
    "                             'RecipeUsedOnEquip': str.strip, \n",
    "                             'ActualDateIn': str.strip, \n",
    "                             'LotId': str.strip})"
   ]
  },
  {
   "cell_type": "code",
   "execution_count": 120,
   "metadata": {},
   "outputs": [
    {
     "data": {
      "text/plain": [
       "['EquipID', 'RecipeUsedOnEquip', 'ActualDateIn', 'LotId']"
      ]
     },
     "execution_count": 120,
     "metadata": {},
     "output_type": "execute_result"
    }
   ],
   "source": [
    "# show the column headers\n",
    "df.columns.to_list()"
   ]
  },
  {
   "cell_type": "code",
   "execution_count": 67,
   "metadata": {
    "scrolled": true
   },
   "outputs": [
    {
     "data": {
      "text/html": [
       "<div>\n",
       "<style scoped>\n",
       "    .dataframe tbody tr th:only-of-type {\n",
       "        vertical-align: middle;\n",
       "    }\n",
       "\n",
       "    .dataframe tbody tr th {\n",
       "        vertical-align: top;\n",
       "    }\n",
       "\n",
       "    .dataframe thead th {\n",
       "        text-align: right;\n",
       "    }\n",
       "</style>\n",
       "<table border=\"1\" class=\"dataframe\">\n",
       "  <thead>\n",
       "    <tr style=\"text-align: right;\">\n",
       "      <th></th>\n",
       "      <th>EquipID</th>\n",
       "      <th>RecipeUsedOnEquip</th>\n",
       "      <th>ActualDateIn</th>\n",
       "      <th>LotId</th>\n",
       "    </tr>\n",
       "  </thead>\n",
       "  <tbody>\n",
       "    <tr>\n",
       "      <th>0</th>\n",
       "      <td>ASBE1</td>\n",
       "      <td>2</td>\n",
       "      <td>09-03-2021 08:39</td>\n",
       "      <td>F20280002.F1</td>\n",
       "    </tr>\n",
       "    <tr>\n",
       "      <th>1</th>\n",
       "      <td>ASBE1</td>\n",
       "      <td>2</td>\n",
       "      <td>09-03-2021 05:44</td>\n",
       "      <td>F20350002.F1</td>\n",
       "    </tr>\n",
       "    <tr>\n",
       "      <th>2</th>\n",
       "      <td>ASBE1</td>\n",
       "      <td>2</td>\n",
       "      <td>09-03-2021 04:53</td>\n",
       "      <td>F20200003.F1</td>\n",
       "    </tr>\n",
       "    <tr>\n",
       "      <th>3</th>\n",
       "      <td>ASBE1</td>\n",
       "      <td>#2</td>\n",
       "      <td>08-03-2021 12:41</td>\n",
       "      <td>F20370001.F1</td>\n",
       "    </tr>\n",
       "    <tr>\n",
       "      <th>4</th>\n",
       "      <td>ASBE1</td>\n",
       "      <td>#2</td>\n",
       "      <td>08-03-2021 10:25</td>\n",
       "      <td>F20280002.F1</td>\n",
       "    </tr>\n",
       "  </tbody>\n",
       "</table>\n",
       "</div>"
      ],
      "text/plain": [
       "  EquipID RecipeUsedOnEquip      ActualDateIn         LotId\n",
       "0   ASBE1                 2  09-03-2021 08:39  F20280002.F1\n",
       "1   ASBE1                 2  09-03-2021 05:44  F20350002.F1\n",
       "2   ASBE1                 2  09-03-2021 04:53  F20200003.F1\n",
       "3   ASBE1                #2  08-03-2021 12:41  F20370001.F1\n",
       "4   ASBE1                #2  08-03-2021 10:25  F20280002.F1"
      ]
     },
     "execution_count": 67,
     "metadata": {},
     "output_type": "execute_result"
    }
   ],
   "source": [
    "# first 5 rows\n",
    "df.head()"
   ]
  },
  {
   "cell_type": "code",
   "execution_count": 69,
   "metadata": {
    "scrolled": false
   },
   "outputs": [
    {
     "data": {
      "text/html": [
       "<div>\n",
       "<style scoped>\n",
       "    .dataframe tbody tr th:only-of-type {\n",
       "        vertical-align: middle;\n",
       "    }\n",
       "\n",
       "    .dataframe tbody tr th {\n",
       "        vertical-align: top;\n",
       "    }\n",
       "\n",
       "    .dataframe thead th {\n",
       "        text-align: right;\n",
       "    }\n",
       "</style>\n",
       "<table border=\"1\" class=\"dataframe\">\n",
       "  <thead>\n",
       "    <tr style=\"text-align: right;\">\n",
       "      <th></th>\n",
       "      <th>EquipID</th>\n",
       "      <th>RecipeUsedOnEquip</th>\n",
       "      <th>ActualDateIn</th>\n",
       "      <th>LotId</th>\n",
       "    </tr>\n",
       "  </thead>\n",
       "  <tbody>\n",
       "    <tr>\n",
       "      <th>105583</th>\n",
       "      <td></td>\n",
       "      <td></td>\n",
       "      <td></td>\n",
       "      <td></td>\n",
       "    </tr>\n",
       "    <tr>\n",
       "      <th>105584</th>\n",
       "      <td></td>\n",
       "      <td></td>\n",
       "      <td></td>\n",
       "      <td></td>\n",
       "    </tr>\n",
       "    <tr>\n",
       "      <th>105585</th>\n",
       "      <td></td>\n",
       "      <td></td>\n",
       "      <td></td>\n",
       "      <td></td>\n",
       "    </tr>\n",
       "    <tr>\n",
       "      <th>105586</th>\n",
       "      <td></td>\n",
       "      <td></td>\n",
       "      <td></td>\n",
       "      <td></td>\n",
       "    </tr>\n",
       "    <tr>\n",
       "      <th>105587</th>\n",
       "      <td></td>\n",
       "      <td></td>\n",
       "      <td></td>\n",
       "      <td></td>\n",
       "    </tr>\n",
       "  </tbody>\n",
       "</table>\n",
       "</div>"
      ],
      "text/plain": [
       "       EquipID RecipeUsedOnEquip ActualDateIn LotId\n",
       "105583                                             \n",
       "105584                                             \n",
       "105585                                             \n",
       "105586                                             \n",
       "105587                                             "
      ]
     },
     "execution_count": 69,
     "metadata": {},
     "output_type": "execute_result"
    }
   ],
   "source": [
    "# last 5 rows\n",
    "df.tail()"
   ]
  },
  {
   "cell_type": "code",
   "execution_count": 82,
   "metadata": {
    "scrolled": true
   },
   "outputs": [],
   "source": [
    "# dropping rows where at least one element is missing\n",
    "nan_val = float(\"NaN\")\n",
    "\n",
    "# replace \"\" with \"NaN\"\n",
    "df.replace(\"\", nan_val, inplace=True)\n",
    "\n",
    "# drop rows with column - \"EquipID\" values as \"NaN\"\n",
    "df.dropna(subset = [\"EquipID\"], inplace=True)"
   ]
  },
  {
   "cell_type": "code",
   "execution_count": 83,
   "metadata": {},
   "outputs": [
    {
     "data": {
      "text/html": [
       "<div>\n",
       "<style scoped>\n",
       "    .dataframe tbody tr th:only-of-type {\n",
       "        vertical-align: middle;\n",
       "    }\n",
       "\n",
       "    .dataframe tbody tr th {\n",
       "        vertical-align: top;\n",
       "    }\n",
       "\n",
       "    .dataframe thead th {\n",
       "        text-align: right;\n",
       "    }\n",
       "</style>\n",
       "<table border=\"1\" class=\"dataframe\">\n",
       "  <thead>\n",
       "    <tr style=\"text-align: right;\">\n",
       "      <th></th>\n",
       "      <th>EquipID</th>\n",
       "      <th>RecipeUsedOnEquip</th>\n",
       "      <th>ActualDateIn</th>\n",
       "      <th>LotId</th>\n",
       "    </tr>\n",
       "  </thead>\n",
       "  <tbody>\n",
       "    <tr>\n",
       "      <th>17278</th>\n",
       "      <td>RESP1B</td>\n",
       "      <td>Wf 6. Z-VIA+ASH.1MIN; WF 7. Z-VA+ASH1MIN150W; ...</td>\n",
       "      <td>24-09-2013 12:02</td>\n",
       "      <td>S13360004.F6</td>\n",
       "    </tr>\n",
       "    <tr>\n",
       "      <th>17279</th>\n",
       "      <td>RESP1B</td>\n",
       "      <td>Z-VIA+ASH</td>\n",
       "      <td>21-09-2013 11:51</td>\n",
       "      <td>S13360004.F5</td>\n",
       "    </tr>\n",
       "    <tr>\n",
       "      <th>17280</th>\n",
       "      <td>RESP1B</td>\n",
       "      <td>BARC+ME120SEC</td>\n",
       "      <td>20-09-2013 15:20</td>\n",
       "      <td>S13360004.F4</td>\n",
       "    </tr>\n",
       "    <tr>\n",
       "      <th>17281</th>\n",
       "      <td>RESP1B</td>\n",
       "      <td>See the Remark</td>\n",
       "      <td>20-09-2013 15:18</td>\n",
       "      <td>S13360004.F2</td>\n",
       "    </tr>\n",
       "    <tr>\n",
       "      <th>17282</th>\n",
       "      <td>RESP1B</td>\n",
       "      <td>SPACER-ETCH</td>\n",
       "      <td>20-04-2013 12:09</td>\n",
       "      <td>T005547H1.F1</td>\n",
       "    </tr>\n",
       "  </tbody>\n",
       "</table>\n",
       "</div>"
      ],
      "text/plain": [
       "      EquipID                                  RecipeUsedOnEquip  \\\n",
       "17278  RESP1B  Wf 6. Z-VIA+ASH.1MIN; WF 7. Z-VA+ASH1MIN150W; ...   \n",
       "17279  RESP1B                                          Z-VIA+ASH   \n",
       "17280  RESP1B                                      BARC+ME120SEC   \n",
       "17281  RESP1B                                     See the Remark   \n",
       "17282  RESP1B                                        SPACER-ETCH   \n",
       "\n",
       "           ActualDateIn         LotId  \n",
       "17278  24-09-2013 12:02  S13360004.F6  \n",
       "17279  21-09-2013 11:51  S13360004.F5  \n",
       "17280  20-09-2013 15:20  S13360004.F4  \n",
       "17281  20-09-2013 15:18  S13360004.F2  \n",
       "17282  20-04-2013 12:09  T005547H1.F1  "
      ]
     },
     "execution_count": 83,
     "metadata": {},
     "output_type": "execute_result"
    }
   ],
   "source": [
    "df.tail()"
   ]
  },
  {
   "cell_type": "code",
   "execution_count": 92,
   "metadata": {},
   "outputs": [],
   "source": [
    "# create new CSV file\n",
    "# purpose: to view & apply filter while viewing in Excel\n",
    "df.to_csv('out.csv', index=False)"
   ]
  },
  {
   "cell_type": "code",
   "execution_count": 1,
   "metadata": {},
   "outputs": [
    {
     "ename": "NameError",
     "evalue": "name 'df' is not defined",
     "output_type": "error",
     "traceback": [
      "\u001b[1;31m---------------------------------------------------------------------------\u001b[0m",
      "\u001b[1;31mNameError\u001b[0m                                 Traceback (most recent call last)",
      "\u001b[1;32m<ipython-input-1-83e0fce8d6ae>\u001b[0m in \u001b[0;36m<module>\u001b[1;34m\u001b[0m\n\u001b[0;32m      1\u001b[0m \u001b[1;31m# Fetch all the unique equip-ids provided in the data using `set()`\u001b[0m\u001b[1;33m\u001b[0m\u001b[1;33m\u001b[0m\u001b[1;33m\u001b[0m\u001b[0m\n\u001b[1;32m----> 2\u001b[1;33m \u001b[0mequip_list_unique\u001b[0m \u001b[1;33m=\u001b[0m \u001b[0mlist\u001b[0m\u001b[1;33m(\u001b[0m\u001b[0mset\u001b[0m\u001b[1;33m(\u001b[0m\u001b[0mdf\u001b[0m\u001b[1;33m[\u001b[0m\u001b[1;34m\"EquipID\"\u001b[0m\u001b[1;33m]\u001b[0m\u001b[1;33m.\u001b[0m\u001b[0mto_list\u001b[0m\u001b[1;33m(\u001b[0m\u001b[1;33m)\u001b[0m\u001b[1;33m)\u001b[0m\u001b[1;33m)\u001b[0m\u001b[1;33m\u001b[0m\u001b[1;33m\u001b[0m\u001b[0m\n\u001b[0m\u001b[0;32m      3\u001b[0m \u001b[0mequip_list_unique\u001b[0m\u001b[1;33m\u001b[0m\u001b[1;33m\u001b[0m\u001b[0m\n\u001b[0;32m      4\u001b[0m ['CLMUV1',\n\u001b[0;32m      5\u001b[0m  \u001b[1;34m'REOX1B'\u001b[0m\u001b[1;33m,\u001b[0m\u001b[1;33m\u001b[0m\u001b[1;33m\u001b[0m\u001b[0m\n",
      "\u001b[1;31mNameError\u001b[0m: name 'df' is not defined"
     ]
    }
   ],
   "source": [
    "# Fetch all the unique equip-ids provided in the data using `set()`\n",
    "equip_list_unique = list(set(df[\"EquipID\"].to_list()))\n",
    "equip_list_unique\n",
    "['CLMUV1',\n",
    " 'REOX1B',\n",
    " 'CLREPL1',\n",
    " 'ASFE1',\n",
    " 'CLREML1',\n",
    " 'REPL1B',\n",
    " 'REOX1A',\n",
    " 'RESP1A',\n",
    " 'ASBE1',\n",
    " 'REML1C,ASBE1',\n",
    " 'ASFE1,ASBE1',\n",
    " 'REPL1A',\n",
    " 'REML1C',\n",
    " 'ASBE1,REML1C',\n",
    " 'CLFRBG1',\n",
    " 'CLREOX1',\n",
    " 'RESP1B',\n",
    " 'REOX1C',\n",
    " 'CLRESP1',\n",
    " 'REML1A']\n",
    "equip_list_unique"
   ]
  },
  {
   "cell_type": "markdown",
   "metadata": {},
   "source": [
    "----------------------------------------------------------------------------------------------------------------"
   ]
  },
  {
   "cell_type": "markdown",
   "metadata": {},
   "source": [
    "### Recipes run in ASBE1"
   ]
  },
  {
   "cell_type": "markdown",
   "metadata": {},
   "source": [
    "#### Objectives\n",
    "* show the recipes run in lots\n",
    "* frequency of each recipe"
   ]
  },
  {
   "cell_type": "code",
   "execution_count": 105,
   "metadata": {},
   "outputs": [
    {
     "data": {
      "text/plain": [
       "['ASBE1', 'REML1C,ASBE1', 'ASFE1,ASBE1', 'ASBE1,REML1C']"
      ]
     },
     "execution_count": 105,
     "metadata": {},
     "output_type": "execute_result"
    }
   ],
   "source": [
    "# show the equip names by which the entry has been done in DMIS\n",
    "asbe1_equip_names = [e for e in equip_list_unique if \"ASBE1\" in e]\n",
    "asbe1_equip_names"
   ]
  },
  {
   "cell_type": "code",
   "execution_count": 118,
   "metadata": {},
   "outputs": [
    {
     "data": {
      "text/html": [
       "<div>\n",
       "<style scoped>\n",
       "    .dataframe tbody tr th:only-of-type {\n",
       "        vertical-align: middle;\n",
       "    }\n",
       "\n",
       "    .dataframe tbody tr th {\n",
       "        vertical-align: top;\n",
       "    }\n",
       "\n",
       "    .dataframe thead th {\n",
       "        text-align: right;\n",
       "    }\n",
       "</style>\n",
       "<table border=\"1\" class=\"dataframe\">\n",
       "  <thead>\n",
       "    <tr style=\"text-align: right;\">\n",
       "      <th></th>\n",
       "      <th>EquipID</th>\n",
       "      <th>RecipeUsedOnEquip</th>\n",
       "      <th>ActualDateIn</th>\n",
       "      <th>LotId</th>\n",
       "    </tr>\n",
       "  </thead>\n",
       "  <tbody>\n",
       "    <tr>\n",
       "      <th>0</th>\n",
       "      <td>ASBE1</td>\n",
       "      <td>2</td>\n",
       "      <td>09-03-2021 08:39</td>\n",
       "      <td>F20280002.F1</td>\n",
       "    </tr>\n",
       "    <tr>\n",
       "      <th>1</th>\n",
       "      <td>ASBE1</td>\n",
       "      <td>2</td>\n",
       "      <td>09-03-2021 05:44</td>\n",
       "      <td>F20350002.F1</td>\n",
       "    </tr>\n",
       "    <tr>\n",
       "      <th>2</th>\n",
       "      <td>ASBE1</td>\n",
       "      <td>2</td>\n",
       "      <td>09-03-2021 04:53</td>\n",
       "      <td>F20200003.F1</td>\n",
       "    </tr>\n",
       "    <tr>\n",
       "      <th>3</th>\n",
       "      <td>ASBE1</td>\n",
       "      <td>#2</td>\n",
       "      <td>08-03-2021 12:41</td>\n",
       "      <td>F20370001.F1</td>\n",
       "    </tr>\n",
       "    <tr>\n",
       "      <th>4</th>\n",
       "      <td>ASBE1</td>\n",
       "      <td>#2</td>\n",
       "      <td>08-03-2021 10:25</td>\n",
       "      <td>F20280002.F1</td>\n",
       "    </tr>\n",
       "  </tbody>\n",
       "</table>\n",
       "</div>"
      ],
      "text/plain": [
       "  EquipID RecipeUsedOnEquip      ActualDateIn         LotId\n",
       "0   ASBE1                 2  09-03-2021 08:39  F20280002.F1\n",
       "1   ASBE1                 2  09-03-2021 05:44  F20350002.F1\n",
       "2   ASBE1                 2  09-03-2021 04:53  F20200003.F1\n",
       "3   ASBE1                #2  08-03-2021 12:41  F20370001.F1\n",
       "4   ASBE1                #2  08-03-2021 10:25  F20280002.F1"
      ]
     },
     "execution_count": 118,
     "metadata": {},
     "output_type": "execute_result"
    }
   ],
   "source": [
    "# create df for \"EquipID\" col values as `asbe1_equip_names` list\n",
    "df_asbe1 = df[df[\"EquipID\"].isin(asbe1_equip_names)]\n",
    "\n",
    "# first 5 rows\n",
    "df_asbe1.head()"
   ]
  },
  {
   "cell_type": "code",
   "execution_count": 124,
   "metadata": {
    "scrolled": true
   },
   "outputs": [
    {
     "data": {
      "text/plain": [
       "['#D',\n",
       " ': Recipe # D',\n",
       " 'TS18SL_STRIP',\n",
       " 'Recipe # D.',\n",
       " 'Recipe: Recipe # 2',\n",
       " 'Recipe: Recipe # D',\n",
       " 'F',\n",
       " 'ipe # B( if in ASBE1); Recipe:TS18SLSTRIP(if in ASP Chamber of CLREML1).',\n",
       " 'Recipe#7(300sec) in ASFE1,Recipe:TS18SLStrip in ASP Chamber',\n",
       " 'Recipe # 4',\n",
       " '2',\n",
       " 'See Remarks for recipes.',\n",
       " ': Recipe # 2',\n",
       " 'Recipe # 3',\n",
       " 'V2PreDUVASH',\n",
       " '# 2',\n",
       " '#1',\n",
       " 'B',\n",
       " 'Recipe#1',\n",
       " 'test',\n",
       " 'TS18SLSTRIP',\n",
       " '#3',\n",
       " '# D',\n",
       " 'D',\n",
       " '# 3',\n",
       " '#6',\n",
       " '3',\n",
       " '# D.',\n",
       " '#d',\n",
       " 'Recipe # D',\n",
       " 'See Remark',\n",
       " 'Recipe#6',\n",
       " '#2',\n",
       " 'TS18SL STRIP',\n",
       " 'Recipe 1',\n",
       " 'Recipe # 2',\n",
       " 'TS18SLSTRIP-REML1']"
      ]
     },
     "execution_count": 124,
     "metadata": {},
     "output_type": "execute_result"
    }
   ],
   "source": [
    "# fetch all the unique recipes in this equipment/chamber by `asbe1_equip_names` list\n",
    "recipes_asbe1 = list(set(df_asbe1[\"RecipeUsedOnEquip\"].to_list()))\n",
    "recipes_asbe1"
   ]
  },
  {
   "cell_type": "markdown",
   "metadata": {},
   "source": [
    "----------------------------------------------------------------------------------------------------------------"
   ]
  },
  {
   "cell_type": "markdown",
   "metadata": {},
   "source": [
    "### Recipes run in ASFE1"
   ]
  },
  {
   "cell_type": "markdown",
   "metadata": {},
   "source": [
    "#### Objectives\n",
    "* show the recipes run in lots\n",
    "* frequency of each recipe"
   ]
  },
  {
   "cell_type": "code",
   "execution_count": 125,
   "metadata": {},
   "outputs": [
    {
     "data": {
      "text/plain": [
       "['ASFE1', 'ASFE1,ASBE1']"
      ]
     },
     "execution_count": 125,
     "metadata": {},
     "output_type": "execute_result"
    }
   ],
   "source": [
    "# show the equip names by which the entry has been done in DMIS\n",
    "asfe1_equip_names = [e for e in equip_list_unique if \"ASFE1\" in e]\n",
    "asfe1_equip_names"
   ]
  },
  {
   "cell_type": "code",
   "execution_count": 127,
   "metadata": {},
   "outputs": [
    {
     "data": {
      "text/html": [
       "<div>\n",
       "<style scoped>\n",
       "    .dataframe tbody tr th:only-of-type {\n",
       "        vertical-align: middle;\n",
       "    }\n",
       "\n",
       "    .dataframe tbody tr th {\n",
       "        vertical-align: top;\n",
       "    }\n",
       "\n",
       "    .dataframe thead th {\n",
       "        text-align: right;\n",
       "    }\n",
       "</style>\n",
       "<table border=\"1\" class=\"dataframe\">\n",
       "  <thead>\n",
       "    <tr style=\"text-align: right;\">\n",
       "      <th></th>\n",
       "      <th>EquipID</th>\n",
       "      <th>RecipeUsedOnEquip</th>\n",
       "      <th>ActualDateIn</th>\n",
       "      <th>LotId</th>\n",
       "    </tr>\n",
       "  </thead>\n",
       "  <tbody>\n",
       "    <tr>\n",
       "      <th>1011</th>\n",
       "      <td>ASFE1</td>\n",
       "      <td>2</td>\n",
       "      <td>16-03-2021 12:07</td>\n",
       "      <td>F20370001.F1</td>\n",
       "    </tr>\n",
       "    <tr>\n",
       "      <th>1012</th>\n",
       "      <td>ASFE1</td>\n",
       "      <td>#2</td>\n",
       "      <td>15-03-2021 21:14</td>\n",
       "      <td>F19410001.F1</td>\n",
       "    </tr>\n",
       "    <tr>\n",
       "      <th>1013</th>\n",
       "      <td>ASFE1</td>\n",
       "      <td>#2</td>\n",
       "      <td>15-03-2021 19:33</td>\n",
       "      <td>F21040001.F1</td>\n",
       "    </tr>\n",
       "    <tr>\n",
       "      <th>1014</th>\n",
       "      <td>ASFE1</td>\n",
       "      <td>#2</td>\n",
       "      <td>15-03-2021 16:41</td>\n",
       "      <td>F20280002.F1</td>\n",
       "    </tr>\n",
       "    <tr>\n",
       "      <th>1015</th>\n",
       "      <td>ASFE1</td>\n",
       "      <td>D</td>\n",
       "      <td>15-03-2021 10:13</td>\n",
       "      <td>F21110001.F1</td>\n",
       "    </tr>\n",
       "  </tbody>\n",
       "</table>\n",
       "</div>"
      ],
      "text/plain": [
       "     EquipID RecipeUsedOnEquip      ActualDateIn         LotId\n",
       "1011   ASFE1                 2  16-03-2021 12:07  F20370001.F1\n",
       "1012   ASFE1                #2  15-03-2021 21:14  F19410001.F1\n",
       "1013   ASFE1                #2  15-03-2021 19:33  F21040001.F1\n",
       "1014   ASFE1                #2  15-03-2021 16:41  F20280002.F1\n",
       "1015   ASFE1                 D  15-03-2021 10:13  F21110001.F1"
      ]
     },
     "execution_count": 127,
     "metadata": {},
     "output_type": "execute_result"
    }
   ],
   "source": [
    "# create df for \"EquipID\" col values as `asbe1_equip_names` list\n",
    "df_asfe1 = df[df[\"EquipID\"].isin(asfe1_equip_names)]\n",
    "\n",
    "# first 5 rows\n",
    "df_asfe1.head()"
   ]
  },
  {
   "cell_type": "code",
   "execution_count": 128,
   "metadata": {
    "scrolled": true
   },
   "outputs": [
    {
     "data": {
      "text/plain": [
       "['2,5,and 1',\n",
       " '#D',\n",
       " ': Recipe # D',\n",
       " 'NOTE: After ASH, arrange wafers in corresponding slots in the wafer sorter.  Recipe: Recipe # D',\n",
       " 'B D',\n",
       " 'Recipe # D.',\n",
       " 'Recipe: Recipe # 2',\n",
       " 'Recipe: Recipe # D',\n",
       " '1902',\n",
       " 'F',\n",
       " 'C1D_ASHING-NFM--Post',\n",
       " 'Recipe # 4',\n",
       " 'Recipe:2',\n",
       " '2',\n",
       " 'Recipe F',\n",
       " 'Recipe# 2',\n",
       " 'Recipe  D',\n",
       " ': Recipe # 2',\n",
       " 'RecipeD',\n",
       " 'ASHER1',\n",
       " 'Recipe # 3',\n",
       " 'Z-SIPMGC1',\n",
       " '# 2',\n",
       " 'Reciepe 2',\n",
       " 'Reciepe 3',\n",
       " '60 sec',\n",
       " '6',\n",
       " 'ASH',\n",
       " 'TS18SLSTRIP',\n",
       " '#3',\n",
       " '# 3',\n",
       " 'D',\n",
       " '# D',\n",
       " '#6',\n",
       " 'Recipe2',\n",
       " 'pre duv ash',\n",
       " 'Recipe: Recipe # 3',\n",
       " '3',\n",
       " '# D.',\n",
       " '#d',\n",
       " 'Recipe  2',\n",
       " 'Recipe  3',\n",
       " 'Recipe 3',\n",
       " 'Reciepe D',\n",
       " 'sorter.  Recipe: Recipe # D',\n",
       " '60 s',\n",
       " 'NO  Run',\n",
       " 'RAA_FI\"',\n",
       " ': #2',\n",
       " 'Recipe # D',\n",
       " 'e# 2',\n",
       " ': Recipe # 3',\n",
       " 'ASHER1--CNS Ash',\n",
       " '#2',\n",
       " '2 and 1',\n",
       " 'ecipe: #2',\n",
       " 'D B',\n",
       " 'Recipe 2',\n",
       " 'Recipe#2',\n",
       " 'Recipe-2',\n",
       " 'recipe D',\n",
       " 'Recipe: #2',\n",
       " 'e#2',\n",
       " 'Recipe D',\n",
       " 'd',\n",
       " 'Recipe # 2',\n",
       " 'Post GC Ash']"
      ]
     },
     "execution_count": 128,
     "metadata": {},
     "output_type": "execute_result"
    }
   ],
   "source": [
    "# fetch all the unique recipes in this equipment/chamber by `asbe1_equip_names` list\n",
    "recipes_asfe1 = list(set(df_asfe1[\"RecipeUsedOnEquip\"].to_list()))\n",
    "recipes_asfe1"
   ]
  },
  {
   "cell_type": "code",
   "execution_count": null,
   "metadata": {},
   "outputs": [],
   "source": []
  },
  {
   "cell_type": "markdown",
   "metadata": {},
   "source": [
    "----------------------------------------------------------------------------------------------------------------"
   ]
  },
  {
   "cell_type": "markdown",
   "metadata": {},
   "source": [
    "### Recipes run in REML1A"
   ]
  },
  {
   "cell_type": "markdown",
   "metadata": {},
   "source": [
    "----------------------------------------------------------------------------------------------------------------"
   ]
  },
  {
   "cell_type": "markdown",
   "metadata": {},
   "source": [
    "### Recipes run in ASBE1"
   ]
  },
  {
   "cell_type": "markdown",
   "metadata": {},
   "source": [
    "----------------------------------------------------------------------------------------------------------------"
   ]
  },
  {
   "cell_type": "markdown",
   "metadata": {},
   "source": [
    "### Recipes run in ASBE1"
   ]
  },
  {
   "cell_type": "markdown",
   "metadata": {},
   "source": [
    "----------------------------------------------------------------------------------------------------------------"
   ]
  },
  {
   "cell_type": "code",
   "execution_count": null,
   "metadata": {},
   "outputs": [],
   "source": []
  }
 ],
 "metadata": {
  "kernelspec": {
   "display_name": "Python 3",
   "language": "python",
   "name": "python3"
  },
  "language_info": {
   "codemirror_mode": {
    "name": "ipython",
    "version": 3
   },
   "file_extension": ".py",
   "mimetype": "text/x-python",
   "name": "python",
   "nbconvert_exporter": "python",
   "pygments_lexer": "ipython3",
   "version": "3.8.5"
  }
 },
 "nbformat": 4,
 "nbformat_minor": 4
}

{
 "cells": [
  {
   "cell_type": "code",
   "execution_count": 1,
   "metadata": {},
   "outputs": [],
   "source": [
    "import pandas as pd"
   ]
  },
  {
   "cell_type": "code",
   "execution_count": 2,
   "metadata": {},
   "outputs": [],
   "source": [
    "# df = pd.read_csv(\"../data/dry_etch.csv\")\n",
    "\n",
    "# As the columns cell data contains 'whitespace'. So, just trim it while fetching data.\n",
    "df = pd.read_csv(\"../data/dry_etch.csv\", \n",
    "                 converters={'EquipID': str.strip, \n",
    "                             'RecipeUsedOnEquip': str.strip, \n",
    "                             'ActualDateIn': str.strip, \n",
    "                             'LotId': str.strip})"
   ]
  },
  {
   "cell_type": "code",
   "execution_count": 3,
   "metadata": {},
   "outputs": [
    {
     "data": {
      "text/plain": [
       "['EquipID', 'RecipeUsedOnEquip', 'ActualDateIn', 'LotId']"
      ]
     },
     "execution_count": 3,
     "metadata": {},
     "output_type": "execute_result"
    }
   ],
   "source": [
    "# show the column headers\n",
    "df.columns.to_list()"
   ]
  },
  {
   "cell_type": "code",
   "execution_count": 4,
   "metadata": {
    "scrolled": true
   },
   "outputs": [
    {
     "data": {
      "text/html": [
       "<div>\n",
       "<style scoped>\n",
       "    .dataframe tbody tr th:only-of-type {\n",
       "        vertical-align: middle;\n",
       "    }\n",
       "\n",
       "    .dataframe tbody tr th {\n",
       "        vertical-align: top;\n",
       "    }\n",
       "\n",
       "    .dataframe thead th {\n",
       "        text-align: right;\n",
       "    }\n",
       "</style>\n",
       "<table border=\"1\" class=\"dataframe\">\n",
       "  <thead>\n",
       "    <tr style=\"text-align: right;\">\n",
       "      <th></th>\n",
       "      <th>EquipID</th>\n",
       "      <th>RecipeUsedOnEquip</th>\n",
       "      <th>ActualDateIn</th>\n",
       "      <th>LotId</th>\n",
       "    </tr>\n",
       "  </thead>\n",
       "  <tbody>\n",
       "    <tr>\n",
       "      <th>0</th>\n",
       "      <td>ASBE1</td>\n",
       "      <td>2</td>\n",
       "      <td>09-03-2021 08:39</td>\n",
       "      <td>F20280002.F1</td>\n",
       "    </tr>\n",
       "    <tr>\n",
       "      <th>1</th>\n",
       "      <td>ASBE1</td>\n",
       "      <td>2</td>\n",
       "      <td>09-03-2021 05:44</td>\n",
       "      <td>F20350002.F1</td>\n",
       "    </tr>\n",
       "    <tr>\n",
       "      <th>2</th>\n",
       "      <td>ASBE1</td>\n",
       "      <td>2</td>\n",
       "      <td>09-03-2021 04:53</td>\n",
       "      <td>F20200003.F1</td>\n",
       "    </tr>\n",
       "    <tr>\n",
       "      <th>3</th>\n",
       "      <td>ASBE1</td>\n",
       "      <td>#2</td>\n",
       "      <td>08-03-2021 12:41</td>\n",
       "      <td>F20370001.F1</td>\n",
       "    </tr>\n",
       "    <tr>\n",
       "      <th>4</th>\n",
       "      <td>ASBE1</td>\n",
       "      <td>#2</td>\n",
       "      <td>08-03-2021 10:25</td>\n",
       "      <td>F20280002.F1</td>\n",
       "    </tr>\n",
       "  </tbody>\n",
       "</table>\n",
       "</div>"
      ],
      "text/plain": [
       "  EquipID RecipeUsedOnEquip      ActualDateIn         LotId\n",
       "0   ASBE1                 2  09-03-2021 08:39  F20280002.F1\n",
       "1   ASBE1                 2  09-03-2021 05:44  F20350002.F1\n",
       "2   ASBE1                 2  09-03-2021 04:53  F20200003.F1\n",
       "3   ASBE1                #2  08-03-2021 12:41  F20370001.F1\n",
       "4   ASBE1                #2  08-03-2021 10:25  F20280002.F1"
      ]
     },
     "execution_count": 4,
     "metadata": {},
     "output_type": "execute_result"
    }
   ],
   "source": [
    "# first 5 rows\n",
    "df.head()"
   ]
  },
  {
   "cell_type": "code",
   "execution_count": 5,
   "metadata": {
    "scrolled": false
   },
   "outputs": [
    {
     "data": {
      "text/html": [
       "<div>\n",
       "<style scoped>\n",
       "    .dataframe tbody tr th:only-of-type {\n",
       "        vertical-align: middle;\n",
       "    }\n",
       "\n",
       "    .dataframe tbody tr th {\n",
       "        vertical-align: top;\n",
       "    }\n",
       "\n",
       "    .dataframe thead th {\n",
       "        text-align: right;\n",
       "    }\n",
       "</style>\n",
       "<table border=\"1\" class=\"dataframe\">\n",
       "  <thead>\n",
       "    <tr style=\"text-align: right;\">\n",
       "      <th></th>\n",
       "      <th>EquipID</th>\n",
       "      <th>RecipeUsedOnEquip</th>\n",
       "      <th>ActualDateIn</th>\n",
       "      <th>LotId</th>\n",
       "    </tr>\n",
       "  </thead>\n",
       "  <tbody>\n",
       "    <tr>\n",
       "      <th>105583</th>\n",
       "      <td></td>\n",
       "      <td></td>\n",
       "      <td></td>\n",
       "      <td></td>\n",
       "    </tr>\n",
       "    <tr>\n",
       "      <th>105584</th>\n",
       "      <td></td>\n",
       "      <td></td>\n",
       "      <td></td>\n",
       "      <td></td>\n",
       "    </tr>\n",
       "    <tr>\n",
       "      <th>105585</th>\n",
       "      <td></td>\n",
       "      <td></td>\n",
       "      <td></td>\n",
       "      <td></td>\n",
       "    </tr>\n",
       "    <tr>\n",
       "      <th>105586</th>\n",
       "      <td></td>\n",
       "      <td></td>\n",
       "      <td></td>\n",
       "      <td></td>\n",
       "    </tr>\n",
       "    <tr>\n",
       "      <th>105587</th>\n",
       "      <td></td>\n",
       "      <td></td>\n",
       "      <td></td>\n",
       "      <td></td>\n",
       "    </tr>\n",
       "  </tbody>\n",
       "</table>\n",
       "</div>"
      ],
      "text/plain": [
       "       EquipID RecipeUsedOnEquip ActualDateIn LotId\n",
       "105583                                             \n",
       "105584                                             \n",
       "105585                                             \n",
       "105586                                             \n",
       "105587                                             "
      ]
     },
     "execution_count": 5,
     "metadata": {},
     "output_type": "execute_result"
    }
   ],
   "source": [
    "# last 5 rows\n",
    "df.tail()"
   ]
  },
  {
   "cell_type": "code",
   "execution_count": 6,
   "metadata": {
    "scrolled": true
   },
   "outputs": [],
   "source": [
    "# dropping rows where at least one element is missing\n",
    "nan_val = float(\"NaN\")\n",
    "\n",
    "# replace \"\" with \"NaN\"\n",
    "df.replace(\"\", nan_val, inplace=True)\n",
    "\n",
    "# drop rows with column - \"EquipID\" values as \"NaN\"\n",
    "df.dropna(subset = [\"EquipID\"], inplace=True)"
   ]
  },
  {
   "cell_type": "code",
   "execution_count": 7,
   "metadata": {},
   "outputs": [
    {
     "data": {
      "text/html": [
       "<div>\n",
       "<style scoped>\n",
       "    .dataframe tbody tr th:only-of-type {\n",
       "        vertical-align: middle;\n",
       "    }\n",
       "\n",
       "    .dataframe tbody tr th {\n",
       "        vertical-align: top;\n",
       "    }\n",
       "\n",
       "    .dataframe thead th {\n",
       "        text-align: right;\n",
       "    }\n",
       "</style>\n",
       "<table border=\"1\" class=\"dataframe\">\n",
       "  <thead>\n",
       "    <tr style=\"text-align: right;\">\n",
       "      <th></th>\n",
       "      <th>EquipID</th>\n",
       "      <th>RecipeUsedOnEquip</th>\n",
       "      <th>ActualDateIn</th>\n",
       "      <th>LotId</th>\n",
       "    </tr>\n",
       "  </thead>\n",
       "  <tbody>\n",
       "    <tr>\n",
       "      <th>17278</th>\n",
       "      <td>RESP1B</td>\n",
       "      <td>Wf 6. Z-VIA+ASH.1MIN; WF 7. Z-VA+ASH1MIN150W; ...</td>\n",
       "      <td>24-09-2013 12:02</td>\n",
       "      <td>S13360004.F6</td>\n",
       "    </tr>\n",
       "    <tr>\n",
       "      <th>17279</th>\n",
       "      <td>RESP1B</td>\n",
       "      <td>Z-VIA+ASH</td>\n",
       "      <td>21-09-2013 11:51</td>\n",
       "      <td>S13360004.F5</td>\n",
       "    </tr>\n",
       "    <tr>\n",
       "      <th>17280</th>\n",
       "      <td>RESP1B</td>\n",
       "      <td>BARC+ME120SEC</td>\n",
       "      <td>20-09-2013 15:20</td>\n",
       "      <td>S13360004.F4</td>\n",
       "    </tr>\n",
       "    <tr>\n",
       "      <th>17281</th>\n",
       "      <td>RESP1B</td>\n",
       "      <td>See the Remark</td>\n",
       "      <td>20-09-2013 15:18</td>\n",
       "      <td>S13360004.F2</td>\n",
       "    </tr>\n",
       "    <tr>\n",
       "      <th>17282</th>\n",
       "      <td>RESP1B</td>\n",
       "      <td>SPACER-ETCH</td>\n",
       "      <td>20-04-2013 12:09</td>\n",
       "      <td>T005547H1.F1</td>\n",
       "    </tr>\n",
       "  </tbody>\n",
       "</table>\n",
       "</div>"
      ],
      "text/plain": [
       "      EquipID                                  RecipeUsedOnEquip  \\\n",
       "17278  RESP1B  Wf 6. Z-VIA+ASH.1MIN; WF 7. Z-VA+ASH1MIN150W; ...   \n",
       "17279  RESP1B                                          Z-VIA+ASH   \n",
       "17280  RESP1B                                      BARC+ME120SEC   \n",
       "17281  RESP1B                                     See the Remark   \n",
       "17282  RESP1B                                        SPACER-ETCH   \n",
       "\n",
       "           ActualDateIn         LotId  \n",
       "17278  24-09-2013 12:02  S13360004.F6  \n",
       "17279  21-09-2013 11:51  S13360004.F5  \n",
       "17280  20-09-2013 15:20  S13360004.F4  \n",
       "17281  20-09-2013 15:18  S13360004.F2  \n",
       "17282  20-04-2013 12:09  T005547H1.F1  "
      ]
     },
     "execution_count": 7,
     "metadata": {},
     "output_type": "execute_result"
    }
   ],
   "source": [
    "df.tail()"
   ]
  },
  {
   "cell_type": "code",
   "execution_count": 8,
   "metadata": {},
   "outputs": [],
   "source": [
    "# create new CSV file\n",
    "# purpose: to view & apply filter while viewing in Excel\n",
    "df.to_csv('out.csv', index=False)"
   ]
  },
  {
   "cell_type": "code",
   "execution_count": 9,
   "metadata": {},
   "outputs": [
    {
     "data": {
      "text/plain": [
       "['REML1A',\n",
       " 'REOX1A',\n",
       " 'REPL1A',\n",
       " 'REML1C,ASBE1',\n",
       " 'REOX1C',\n",
       " 'RESP1A',\n",
       " 'CLMUV1',\n",
       " 'ASFE1,ASBE1',\n",
       " 'CLREOX1',\n",
       " 'REOX1B',\n",
       " 'CLREPL1',\n",
       " 'ASBE1,REML1C',\n",
       " 'ASFE1',\n",
       " 'RESP1B',\n",
       " 'REML1C',\n",
       " 'CLFRBG1',\n",
       " 'CLRESP1',\n",
       " 'ASBE1',\n",
       " 'REPL1B',\n",
       " 'CLREML1']"
      ]
     },
     "execution_count": 9,
     "metadata": {},
     "output_type": "execute_result"
    }
   ],
   "source": [
    "# Fetch all the unique equip-ids provided in the data using `set()`\n",
    "equip_list_unique = list(set(df[\"EquipID\"].to_list()))\n",
    "equip_list_unique"
   ]
  },
  {
   "cell_type": "markdown",
   "metadata": {},
   "source": [
    "----------------------------------------------------------------------------------------------------------------"
   ]
  },
  {
   "cell_type": "markdown",
   "metadata": {},
   "source": [
    "### Recipes run in ASBE1"
   ]
  },
  {
   "cell_type": "markdown",
   "metadata": {},
   "source": [
    "#### Objectives\n",
    "* show the recipes run in lots\n",
    "* frequency of each recipe"
   ]
  },
  {
   "cell_type": "code",
   "execution_count": 10,
   "metadata": {},
   "outputs": [
    {
     "data": {
      "text/plain": [
       "['REML1C,ASBE1', 'ASFE1,ASBE1', 'ASBE1,REML1C', 'ASBE1']"
      ]
     },
     "execution_count": 10,
     "metadata": {},
     "output_type": "execute_result"
    }
   ],
   "source": [
    "# show the equip names by which the entry has been done in DMIS\n",
    "asbe1_equip_names = [e for e in equip_list_unique if \"ASBE1\" in e]\n",
    "asbe1_equip_names"
   ]
  },
  {
   "cell_type": "code",
   "execution_count": 11,
   "metadata": {},
   "outputs": [
    {
     "data": {
      "text/html": [
       "<div>\n",
       "<style scoped>\n",
       "    .dataframe tbody tr th:only-of-type {\n",
       "        vertical-align: middle;\n",
       "    }\n",
       "\n",
       "    .dataframe tbody tr th {\n",
       "        vertical-align: top;\n",
       "    }\n",
       "\n",
       "    .dataframe thead th {\n",
       "        text-align: right;\n",
       "    }\n",
       "</style>\n",
       "<table border=\"1\" class=\"dataframe\">\n",
       "  <thead>\n",
       "    <tr style=\"text-align: right;\">\n",
       "      <th></th>\n",
       "      <th>EquipID</th>\n",
       "      <th>RecipeUsedOnEquip</th>\n",
       "      <th>ActualDateIn</th>\n",
       "      <th>LotId</th>\n",
       "    </tr>\n",
       "  </thead>\n",
       "  <tbody>\n",
       "    <tr>\n",
       "      <th>0</th>\n",
       "      <td>ASBE1</td>\n",
       "      <td>2</td>\n",
       "      <td>09-03-2021 08:39</td>\n",
       "      <td>F20280002.F1</td>\n",
       "    </tr>\n",
       "    <tr>\n",
       "      <th>1</th>\n",
       "      <td>ASBE1</td>\n",
       "      <td>2</td>\n",
       "      <td>09-03-2021 05:44</td>\n",
       "      <td>F20350002.F1</td>\n",
       "    </tr>\n",
       "    <tr>\n",
       "      <th>2</th>\n",
       "      <td>ASBE1</td>\n",
       "      <td>2</td>\n",
       "      <td>09-03-2021 04:53</td>\n",
       "      <td>F20200003.F1</td>\n",
       "    </tr>\n",
       "    <tr>\n",
       "      <th>3</th>\n",
       "      <td>ASBE1</td>\n",
       "      <td>#2</td>\n",
       "      <td>08-03-2021 12:41</td>\n",
       "      <td>F20370001.F1</td>\n",
       "    </tr>\n",
       "    <tr>\n",
       "      <th>4</th>\n",
       "      <td>ASBE1</td>\n",
       "      <td>#2</td>\n",
       "      <td>08-03-2021 10:25</td>\n",
       "      <td>F20280002.F1</td>\n",
       "    </tr>\n",
       "  </tbody>\n",
       "</table>\n",
       "</div>"
      ],
      "text/plain": [
       "  EquipID RecipeUsedOnEquip      ActualDateIn         LotId\n",
       "0   ASBE1                 2  09-03-2021 08:39  F20280002.F1\n",
       "1   ASBE1                 2  09-03-2021 05:44  F20350002.F1\n",
       "2   ASBE1                 2  09-03-2021 04:53  F20200003.F1\n",
       "3   ASBE1                #2  08-03-2021 12:41  F20370001.F1\n",
       "4   ASBE1                #2  08-03-2021 10:25  F20280002.F1"
      ]
     },
     "execution_count": 11,
     "metadata": {},
     "output_type": "execute_result"
    }
   ],
   "source": [
    "# create df for \"EquipID\" col values as `*_equip_names` list\n",
    "df_asbe1 = df[df[\"EquipID\"].isin(asbe1_equip_names)]\n",
    "\n",
    "# first 5 rows\n",
    "df_asbe1.head()"
   ]
  },
  {
   "cell_type": "code",
   "execution_count": 27,
   "metadata": {},
   "outputs": [
    {
     "data": {
      "text/plain": [
       "(1013, 4)"
      ]
     },
     "execution_count": 27,
     "metadata": {},
     "output_type": "execute_result"
    }
   ],
   "source": [
    "# get the shape (row, col) of dataframe\n",
    "df_asbe1.shape"
   ]
  },
  {
   "cell_type": "code",
   "execution_count": 12,
   "metadata": {
    "scrolled": true
   },
   "outputs": [
    {
     "data": {
      "text/plain": [
       "['# 2',\n",
       " 'TS18SL STRIP',\n",
       " '#1',\n",
       " 'Recipe # D.',\n",
       " 'Recipe#7(300sec) in ASFE1,Recipe:TS18SLStrip in ASP Chamber',\n",
       " 'See Remark',\n",
       " '2',\n",
       " '#d',\n",
       " 'Recipe: Recipe # D',\n",
       " '#6',\n",
       " 'Recipe 1',\n",
       " 'TS18SLSTRIP-REML1',\n",
       " 'D',\n",
       " '# D.',\n",
       " 'TS18SL_STRIP',\n",
       " 'Recipe # 4',\n",
       " 'Recipe#6',\n",
       " '# D',\n",
       " '#2',\n",
       " 'test',\n",
       " 'F',\n",
       " ': Recipe # 2',\n",
       " 'ipe # B( if in ASBE1); Recipe:TS18SLSTRIP(if in ASP Chamber of CLREML1).',\n",
       " 'Recipe # 3',\n",
       " '# 3',\n",
       " 'See Remarks for recipes.',\n",
       " '#3',\n",
       " 'V2PreDUVASH',\n",
       " 'Recipe # D',\n",
       " 'TS18SLSTRIP',\n",
       " 'B',\n",
       " 'Recipe # 2',\n",
       " '3',\n",
       " '#D',\n",
       " 'Recipe#1',\n",
       " 'Recipe: Recipe # 2',\n",
       " ': Recipe # D']"
      ]
     },
     "execution_count": 12,
     "metadata": {},
     "output_type": "execute_result"
    }
   ],
   "source": [
    "# fetch all the unique recipes in this equipment/chamber by `*_equip_names` list\n",
    "recipes_asbe1 = list(set(df_asbe1[\"RecipeUsedOnEquip\"].to_list()))\n",
    "recipes_asbe1"
   ]
  },
  {
   "cell_type": "markdown",
   "metadata": {},
   "source": [
    "----------------------------------------------------------------------------------------------------------------"
   ]
  },
  {
   "cell_type": "markdown",
   "metadata": {},
   "source": [
    "### Recipes run in ASFE1"
   ]
  },
  {
   "cell_type": "markdown",
   "metadata": {},
   "source": [
    "#### Objectives\n",
    "* show the recipes run in lots\n",
    "* frequency of each recipe"
   ]
  },
  {
   "cell_type": "code",
   "execution_count": 13,
   "metadata": {},
   "outputs": [
    {
     "data": {
      "text/plain": [
       "['ASFE1,ASBE1', 'ASFE1']"
      ]
     },
     "execution_count": 13,
     "metadata": {},
     "output_type": "execute_result"
    }
   ],
   "source": [
    "# show the equip names by which the entry has been done in DMIS\n",
    "asfe1_equip_names = [e for e in equip_list_unique if \"ASFE1\" in e]\n",
    "asfe1_equip_names"
   ]
  },
  {
   "cell_type": "code",
   "execution_count": 14,
   "metadata": {
    "scrolled": true
   },
   "outputs": [
    {
     "data": {
      "text/html": [
       "<div>\n",
       "<style scoped>\n",
       "    .dataframe tbody tr th:only-of-type {\n",
       "        vertical-align: middle;\n",
       "    }\n",
       "\n",
       "    .dataframe tbody tr th {\n",
       "        vertical-align: top;\n",
       "    }\n",
       "\n",
       "    .dataframe thead th {\n",
       "        text-align: right;\n",
       "    }\n",
       "</style>\n",
       "<table border=\"1\" class=\"dataframe\">\n",
       "  <thead>\n",
       "    <tr style=\"text-align: right;\">\n",
       "      <th></th>\n",
       "      <th>EquipID</th>\n",
       "      <th>RecipeUsedOnEquip</th>\n",
       "      <th>ActualDateIn</th>\n",
       "      <th>LotId</th>\n",
       "    </tr>\n",
       "  </thead>\n",
       "  <tbody>\n",
       "    <tr>\n",
       "      <th>1011</th>\n",
       "      <td>ASFE1</td>\n",
       "      <td>2</td>\n",
       "      <td>16-03-2021 12:07</td>\n",
       "      <td>F20370001.F1</td>\n",
       "    </tr>\n",
       "    <tr>\n",
       "      <th>1012</th>\n",
       "      <td>ASFE1</td>\n",
       "      <td>#2</td>\n",
       "      <td>15-03-2021 21:14</td>\n",
       "      <td>F19410001.F1</td>\n",
       "    </tr>\n",
       "    <tr>\n",
       "      <th>1013</th>\n",
       "      <td>ASFE1</td>\n",
       "      <td>#2</td>\n",
       "      <td>15-03-2021 19:33</td>\n",
       "      <td>F21040001.F1</td>\n",
       "    </tr>\n",
       "    <tr>\n",
       "      <th>1014</th>\n",
       "      <td>ASFE1</td>\n",
       "      <td>#2</td>\n",
       "      <td>15-03-2021 16:41</td>\n",
       "      <td>F20280002.F1</td>\n",
       "    </tr>\n",
       "    <tr>\n",
       "      <th>1015</th>\n",
       "      <td>ASFE1</td>\n",
       "      <td>D</td>\n",
       "      <td>15-03-2021 10:13</td>\n",
       "      <td>F21110001.F1</td>\n",
       "    </tr>\n",
       "  </tbody>\n",
       "</table>\n",
       "</div>"
      ],
      "text/plain": [
       "     EquipID RecipeUsedOnEquip      ActualDateIn         LotId\n",
       "1011   ASFE1                 2  16-03-2021 12:07  F20370001.F1\n",
       "1012   ASFE1                #2  15-03-2021 21:14  F19410001.F1\n",
       "1013   ASFE1                #2  15-03-2021 19:33  F21040001.F1\n",
       "1014   ASFE1                #2  15-03-2021 16:41  F20280002.F1\n",
       "1015   ASFE1                 D  15-03-2021 10:13  F21110001.F1"
      ]
     },
     "execution_count": 14,
     "metadata": {},
     "output_type": "execute_result"
    }
   ],
   "source": [
    "# create df for \"EquipID\" col values as `*_equip_names` list\n",
    "df_asfe1 = df[df[\"EquipID\"].isin(asfe1_equip_names)]\n",
    "\n",
    "# first 5 rows\n",
    "df_asfe1.head()"
   ]
  },
  {
   "cell_type": "code",
   "execution_count": 26,
   "metadata": {},
   "outputs": [
    {
     "data": {
      "text/plain": [
       "(5027, 4)"
      ]
     },
     "execution_count": 26,
     "metadata": {},
     "output_type": "execute_result"
    }
   ],
   "source": [
    "# get the shape (row, col) of dataframe\n",
    "df_asfe1.shape"
   ]
  },
  {
   "cell_type": "code",
   "execution_count": 15,
   "metadata": {
    "scrolled": true
   },
   "outputs": [
    {
     "data": {
      "text/plain": [
       "['ASHER1--CNS Ash',\n",
       " 'Recipe  3',\n",
       " '# 2',\n",
       " 'Recipe# 2',\n",
       " 'Recipe # D.',\n",
       " 'Recipe  D',\n",
       " 'e#2',\n",
       " 'Recipe 2',\n",
       " 'ASHER1',\n",
       " '2',\n",
       " 'D B',\n",
       " '6',\n",
       " 'd',\n",
       " 'B D',\n",
       " '#d',\n",
       " 'Recipe: Recipe # D',\n",
       " 'Recipe:2',\n",
       " '#6',\n",
       " 'Z-SIPMGC1',\n",
       " 'D',\n",
       " 'e# 2',\n",
       " '# D.',\n",
       " '60 s',\n",
       " 'ecipe: #2',\n",
       " 'Recipe D',\n",
       " 'Recipe # 4',\n",
       " 'ASH',\n",
       " '# D',\n",
       " 'NO  Run',\n",
       " '#2',\n",
       " 'Recipe: #2',\n",
       " 'C1D_ASHING-NFM--Post',\n",
       " 'F',\n",
       " ': Recipe # 2',\n",
       " 'Reciepe D',\n",
       " 'Reciepe 3',\n",
       " 'Recipe-2',\n",
       " 'Recipe # 3',\n",
       " '# 3',\n",
       " '2 and 1',\n",
       " 'Recipe: Recipe # 3',\n",
       " 'recipe D',\n",
       " '#3',\n",
       " 'pre duv ash',\n",
       " 'Recipe  2',\n",
       " '2,5,and 1',\n",
       " 'sorter.  Recipe: Recipe # D',\n",
       " 'Reciepe 2',\n",
       " 'Recipe # D',\n",
       " 'Recipe#2',\n",
       " 'NOTE: After ASH, arrange wafers in corresponding slots in the wafer sorter.  Recipe: Recipe # D',\n",
       " 'TS18SLSTRIP',\n",
       " 'Recipe 3',\n",
       " ': #2',\n",
       " 'RAA_FI\"',\n",
       " 'Recipe # 2',\n",
       " '60 sec',\n",
       " 'Post GC Ash',\n",
       " '3',\n",
       " '#D',\n",
       " ': Recipe # 3',\n",
       " 'Recipe2',\n",
       " '1902',\n",
       " 'Recipe: Recipe # 2',\n",
       " 'Recipe F',\n",
       " ': Recipe # D',\n",
       " 'RecipeD']"
      ]
     },
     "execution_count": 15,
     "metadata": {},
     "output_type": "execute_result"
    }
   ],
   "source": [
    "# fetch all the unique recipes in this equipment/chamber by `*_equip_names` list\n",
    "recipes_asfe1 = list(set(df_asfe1[\"RecipeUsedOnEquip\"].to_list()))\n",
    "recipes_asfe1"
   ]
  },
  {
   "cell_type": "markdown",
   "metadata": {},
   "source": [
    "----------------------------------------------------------------------------------------------------------------"
   ]
  },
  {
   "cell_type": "markdown",
   "metadata": {},
   "source": [
    "### Recipes run in REML1"
   ]
  },
  {
   "cell_type": "markdown",
   "metadata": {},
   "source": [
    "#### Objectives\n",
    "* show the recipes run in lots\n",
    "* frequency of each recipe"
   ]
  },
  {
   "cell_type": "code",
   "execution_count": 16,
   "metadata": {
    "scrolled": false
   },
   "outputs": [
    {
     "data": {
      "text/plain": [
       "['REML1A', 'REML1C,ASBE1', 'ASBE1,REML1C', 'REML1C', 'CLREML1']"
      ]
     },
     "execution_count": 16,
     "metadata": {},
     "output_type": "execute_result"
    }
   ],
   "source": [
    "# show the equip names by which the entry has been done in DMIS\n",
    "reml1_equip_names = [e for e in equip_list_unique if \"REML1\" in e]\n",
    "reml1_equip_names"
   ]
  },
  {
   "cell_type": "code",
   "execution_count": 17,
   "metadata": {
    "scrolled": true
   },
   "outputs": [
    {
     "data": {
      "text/html": [
       "<div>\n",
       "<style scoped>\n",
       "    .dataframe tbody tr th:only-of-type {\n",
       "        vertical-align: middle;\n",
       "    }\n",
       "\n",
       "    .dataframe tbody tr th {\n",
       "        vertical-align: top;\n",
       "    }\n",
       "\n",
       "    .dataframe thead th {\n",
       "        text-align: right;\n",
       "    }\n",
       "</style>\n",
       "<table border=\"1\" class=\"dataframe\">\n",
       "  <thead>\n",
       "    <tr style=\"text-align: right;\">\n",
       "      <th></th>\n",
       "      <th>EquipID</th>\n",
       "      <th>RecipeUsedOnEquip</th>\n",
       "      <th>ActualDateIn</th>\n",
       "      <th>LotId</th>\n",
       "    </tr>\n",
       "  </thead>\n",
       "  <tbody>\n",
       "    <tr>\n",
       "      <th>1010</th>\n",
       "      <td>ASBE1,REML1C</td>\n",
       "      <td>TS18SLSTRIP</td>\n",
       "      <td>20-06-2014 14:19</td>\n",
       "      <td>F13360003.F1</td>\n",
       "    </tr>\n",
       "    <tr>\n",
       "      <th>6040</th>\n",
       "      <td>CLREML1</td>\n",
       "      <td>Z-CCD-ML-ETCH1</td>\n",
       "      <td>17-03-2021 15:11</td>\n",
       "      <td>F21020001.F7</td>\n",
       "    </tr>\n",
       "    <tr>\n",
       "      <th>6041</th>\n",
       "      <td>CLREML1</td>\n",
       "      <td>Z-TSL-M1-OE-55</td>\n",
       "      <td>17-03-2021 13:04</td>\n",
       "      <td>F19460002.F1</td>\n",
       "    </tr>\n",
       "    <tr>\n",
       "      <th>6042</th>\n",
       "      <td>CLREML1</td>\n",
       "      <td>Z-TSL-M1-OE-55</td>\n",
       "      <td>15-03-2021 19:05</td>\n",
       "      <td>F19320003.F1</td>\n",
       "    </tr>\n",
       "    <tr>\n",
       "      <th>6043</th>\n",
       "      <td>CLREML1</td>\n",
       "      <td>METAL Ti 600</td>\n",
       "      <td>15-03-2021 16:48</td>\n",
       "      <td>F21020001.F7</td>\n",
       "    </tr>\n",
       "  </tbody>\n",
       "</table>\n",
       "</div>"
      ],
      "text/plain": [
       "           EquipID RecipeUsedOnEquip      ActualDateIn         LotId\n",
       "1010  ASBE1,REML1C       TS18SLSTRIP  20-06-2014 14:19  F13360003.F1\n",
       "6040       CLREML1    Z-CCD-ML-ETCH1  17-03-2021 15:11  F21020001.F7\n",
       "6041       CLREML1    Z-TSL-M1-OE-55  17-03-2021 13:04  F19460002.F1\n",
       "6042       CLREML1    Z-TSL-M1-OE-55  15-03-2021 19:05  F19320003.F1\n",
       "6043       CLREML1      METAL Ti 600  15-03-2021 16:48  F21020001.F7"
      ]
     },
     "execution_count": 17,
     "metadata": {},
     "output_type": "execute_result"
    }
   ],
   "source": [
    "# create df for \"EquipID\" col values as `*_equip_names` list\n",
    "df_reml1 = df[df[\"EquipID\"].isin(reml1_equip_names)]\n",
    "\n",
    "# first 5 rows\n",
    "df_reml1.head()"
   ]
  },
  {
   "cell_type": "code",
   "execution_count": 25,
   "metadata": {},
   "outputs": [
    {
     "data": {
      "text/plain": [
       "(4872, 4)"
      ]
     },
     "execution_count": 25,
     "metadata": {},
     "output_type": "execute_result"
    }
   ],
   "source": [
    "# get the shape (row, col) of dataframe\n",
    "df_reml1.shape"
   ]
  },
  {
   "cell_type": "code",
   "execution_count": 18,
   "metadata": {
    "scrolled": true
   },
   "outputs": [
    {
     "data": {
      "text/plain": [
       "['Z-M1-90-75',\n",
       " 'Z-CCD-ML-ETCH1',\n",
       " 'TS18SLSTRIP(i',\n",
       " 'TS18SL STRIP',\n",
       " 'Z-M2-ASP-LSH20',\n",
       " 'ts18sl strip',\n",
       " 'TSL18SLSTRIP',\n",
       " 'z-MT-ETCH-DOE3',\n",
       " 'Z-M1-10-70;Z-M1-20-70;Z-M1-20-80',\n",
       " 'e: Recipe # B(if in ASBE1) Recipe:TS18SLSTRIP(if in ASP Chamber of CLREML1).',\n",
       " 'MT-ETCH',\n",
       " 'Z-TSL-WOBARC',\n",
       " 'MIM CE ETCH-1)',\n",
       " 'wf-8(METAL ETCH 11 chuck 35 0C)  wf-9(Z-M1-ETCH-STSTEP))',\n",
       " 'Z-M1-20-70',\n",
       " 'TS18SLSTRIP(if in ASP',\n",
       " 'Z-TSL-M1-OE-60',\n",
       " 'Z-M3-LSH20-60S',\n",
       " 'Z-M1-DOE2',\n",
       " 'MIM CE ETCH-1, Z-CE-NIT-350',\n",
       " 'Sequence: Z-ML-LSH2O-60S',\n",
       " 'Z-TS18SLSTRIP-10',\n",
       " 'METAL ETCH 91',\n",
       " 'Default',\n",
       " 'Z-M1-20-80',\n",
       " 'metal etch 21',\n",
       " '( if in ASBE1); Recipe:TS18SLSTRIP(if in ASP Chamber of CLREML1).',\n",
       " 'nce: Z-ML-OE-70 Recipe: Z-ML-OE-70',\n",
       " 'S18SL STRIP',\n",
       " 'AS per Split Plan',\n",
       " 'Z-M1-OE-70Sec',\n",
       " 'METAL Ti 600',\n",
       " 'Z-TSL-M1-10-55',\n",
       " 'Metal Etch 33',\n",
       " 'ML-PW-LONG-OE',\n",
       " 'sSequence: Z-RESP1-EXASHING',\n",
       " 'Recipe:TS18SLSTRIP(if in ASP Chamber of CLREML1).',\n",
       " 'Z-MT-ETCH-DOE5',\n",
       " 'Z-M1-WO-ME2OE Z-M1-ME2-OE',\n",
       " 'Z-CCD-M1-ETCH',\n",
       " 'Z-M1-DOE5',\n",
       " 'As per Rmark',\n",
       " 'Z-TSL-M1-OE-55',\n",
       " 'Z-ML-OE-70',\n",
       " 'Sequence: Z-MT-ETCH-DOE5.  Recipe: Z-MT-ETCH-DOE5.',\n",
       " 'Z-ML-LSH20-60sec',\n",
       " 'Pre DUV Ash',\n",
       " 'MIM CE ETCH-1,Z-CE-NIT-350',\n",
       " 'Sq: Z-M3-LSH2O-60s',\n",
       " 'METAL ETCH 33. Recipe: METAL ETCH 33.',\n",
       " 'Z-M1-LSH2O-40S',\n",
       " 'Sequence:Z-CCD-M1-ETCH. Recipe:Z-CCD-M1-ETCH.',\n",
       " 'Z-TSL-M1-WOBARC',\n",
       " 'M1  PW  LONG  OE  (Z-M1-10-75)',\n",
       " 'B',\n",
       " 'Z-M1-ME-BIAS90W',\n",
       " 'cipe:TS18SLSTRIP(if in ASP Chamber of CLREML1).',\n",
       " 'Z-ML-OE-70Sec',\n",
       " 'Z-TSL-M1-OE-55S',\n",
       " 'Z-M3-MIM-BTI-55',\n",
       " 'Z_SCL_M1_WOBARC',\n",
       " 'MIM CE ETCH-11',\n",
       " 'Z-OLD METAL1 ETCH',\n",
       " 'Recipe: METAL ETCH 33',\n",
       " 'ts18slstrip',\n",
       " 'Z-M2-LSH2O-40S',\n",
       " 'Z-M1-DOE6',\n",
       " 'Z-M1-ASP-LSH20',\n",
       " ':TS18SLSTRIP',\n",
       " 'Z-M1-GAS-BIAS 70',\n",
       " 'Z-M1-WO-ME2OE',\n",
       " 'Z-M1-10-80;Z-M1-20-7-;Z-M1-10-70 RUN diff slots',\n",
       " 'metal etch 91',\n",
       " 'Z-TSL-M1-OE-55,Z-TSL-M1-OE-60',\n",
       " 'MIM CE Etch',\n",
       " 'ASP-REWORK',\n",
       " 'Z-M1-DOE4',\n",
       " 'Sequence: MIM CE ETCH-1. Recipe: MIM CE ETCH-1.',\n",
       " 'Z-M1-ASP-LSH2O',\n",
       " 'Z-M1-10-80',\n",
       " 'Recipe:TS18SLSTRIP',\n",
       " 'Z-PAD-PR-ASH',\n",
       " 'M2 PWSHORT OVERETCH',\n",
       " 'Z-CCD-ML-ETCH',\n",
       " 'Z-TSL-M1-OE-55, Z-TSL-M1-OE-60',\n",
       " ':METAL Ti 600',\n",
       " 'as per the split plan',\n",
       " 'Z-ML-20-70',\n",
       " 'S18SLSTRIP(i',\n",
       " 'Z-M1-10-70',\n",
       " ':  Recipe: SCL-M3MIM-WOBARC',\n",
       " 'Z-ML-BT15-ME20 1',\n",
       " 'Z-M1-TSL-OE-45',\n",
       " 'Recipe # B(if in ASBE1)',\n",
       " '#3',\n",
       " 'Sorter',\n",
       " 'MIM CE Etch-1',\n",
       " 'Z-OLDM1ETCHME210',\n",
       " 'See  Remarks',\n",
       " 'Metal Etch 21',\n",
       " 'TS18SLSTRIP(if in ASP Chamber of CLREML1)',\n",
       " 'Z-OLD METAL1ETCH',\n",
       " 'B( if in ASBE1);',\n",
       " 'Metal Ti 600',\n",
       " 'Seq.    Z-ML-OE-70',\n",
       " 'METAL ETCH 11',\n",
       " 'Z-M2-DOE6',\n",
       " 'Z-TSLM1-OE-55',\n",
       " 'SCL-M3MIM-WOBARC/Z-M3-NIT-350',\n",
       " 'Z-M1-GR1-OE-80S',\n",
       " 'Recipe: Z-TSL-M1-OE-55',\n",
       " 'Z-MT-ETCH-DOE5.',\n",
       " 'Z-M1-DOE3',\n",
       " '#NAME?',\n",
       " 'MIM CE ETCH-1',\n",
       " 'ASP7 Step',\n",
       " 'Z-M1-LSH20-40S',\n",
       " 'Z-VIARE-PR-ASH',\n",
       " 'Recipe: Recipe # B(if in ASBE1) Recipe:TS18SLSTRIP(if in ASP Chamber of CLREML1).',\n",
       " 'ecipe:TS18SLSTRIP(if in ASP Chamber of CLREML1).',\n",
       " 'See Remarks',\n",
       " ': Z-TSL-M1-OE-55 Recipe: Z-TSL-M1-OE-55',\n",
       " 'Z-CE-NIT-350',\n",
       " 'Sequence: MIM CE ETCH-1 Recipe: MIM CE ETCH-1',\n",
       " 'Z-M1-LSH2O-60S',\n",
       " 'Recipe # B(',\n",
       " 'Z-ML-NEW-10-70',\n",
       " 'Z-M3-MIM-OTP',\n",
       " 'Z-CCD-M1 ETCH',\n",
       " 'TS18SLSTRIP and ASP-REWORK',\n",
       " 'Z-MT-ETCH-DOE4',\n",
       " 'uence: Z-TSL-M1-OE-55 Recipe: Z-TSL-M1-OE-55',\n",
       " 'TS18SLSTRIP(',\n",
       " 'TS18SCL STRIP',\n",
       " 'ASP-PDUV',\n",
       " 'Recipe Name:TS18SLSTRIP',\n",
       " 'MIM CE ETCH-1,Z-MIM-CE-ETCH-5',\n",
       " 'Z-ML-BT15-ME20',\n",
       " 'see remarks',\n",
       " 'Z-MIM-CE-ETCH-3',\n",
       " 'RAA ETCH',\n",
       " 'Metal ETCH11 (Wf#1),Z-M1-15-55 (WF#2),Z-M1-15-50(WF#3),Z-M1-20-50 (WF#4)',\n",
       " 'M2 PW LONG OE',\n",
       " 'Z-ML-LSH2O-60S',\n",
       " 'Z-C1D-ML-Ti-TiN',\n",
       " 'Z-M1-DOE7',\n",
       " 'Z-CCD-M1-ETCH.',\n",
       " 'Z-M1-10:60 WBARC',\n",
       " 'METAL ETCH 21   35 0C',\n",
       " 'Z-M1-30-60',\n",
       " 'Metal Etch 11',\n",
       " 'As Per Split Plan',\n",
       " 'Sequence: Z-ML-OE-70 Recipe: Z-ML-OE-70',\n",
       " 'Z-M1-15-70',\n",
       " 'Z-M3-MIM-BT1-55',\n",
       " 'METALL ME2 10S',\n",
       " 'Sequence/Recipe: METAL Ti 600',\n",
       " 'Z RESP1 EXASHING',\n",
       " 'Z-MST-ETCH',\n",
       " 'Z-M1-90-90-150',\n",
       " 'Z-M1-10:60 WOARC',\n",
       " 'Z-M1-WO-OE',\n",
       " 'Z-VIA-DOE13',\n",
       " 'METAL ETCH 21',\n",
       " 'as per splits',\n",
       " 'Z-C1D-Ml-Ti-TiN',\n",
       " 'Z-ML-L-LSH2O-60S',\n",
       " 'Z-M1-GAS RATIO 1',\n",
       " 'Z-M3-LSH2O-60S',\n",
       " 'Z-M2-NO-OE',\n",
       " 'TS18SL-STRIP',\n",
       " 'Z_ML_OE_70',\n",
       " 'CLREML1',\n",
       " 'Recipe: TS18SLSTRIP',\n",
       " ':TS18SLSTRIP(if',\n",
       " 'Z-Mt-ETCH-DOE2',\n",
       " 'CLREML1).',\n",
       " 'MIM CE Etch :TiN (EP)/ Oxide/ SiN.',\n",
       " 'Z-M3MIM-OTP',\n",
       " 'BARCER1-33S',\n",
       " '1-10(Z-M3-MIM-OTP)WF#11,12(Z-METAL ETCH330',\n",
       " 'Z-M1-ETCH-NOASH',\n",
       " 'METAL ETCH 11/on wf22  Z-M1-LSH20-40s',\n",
       " 'Z-M1-DOE1',\n",
       " 'MIM CE ETCH1',\n",
       " 'METAL ETCH 33',\n",
       " 'Z-MT-ETCH-DOE1',\n",
       " 'Z-M1-10-70S',\n",
       " 'TS18SLSTRIP(if',\n",
       " 'METAL1 - NO ME2',\n",
       " 'e: Z-ML-OE-70 Recipe: Z-ML-OE-70',\n",
       " 'MIM CE ETCH 1',\n",
       " '#9,10,11,12,25-',\n",
       " 'Z-ML-NEW-10-701',\n",
       " 'Z-M2-DOE7',\n",
       " 'Z-M1-20-60',\n",
       " 'TS18SLSTRIP.',\n",
       " 'METAL ETCH 11 and Z-M1-LSH2O-40S',\n",
       " 'Z-M2-LSH20-40S',\n",
       " 'ipe:TS18SLSTRIP(if in ASP Chamber of CLREML1).',\n",
       " 'TS18SL_STRIP',\n",
       " 'scl-ml-etch',\n",
       " 'e: MIM CE ETCH-1 Recipe: MIM CE ETCH-1',\n",
       " 'Z-TSL-M1-OE-55                                           Sequence:  Recipe: Z-TSL-M1-OE-55',\n",
       " 'Recipe # B',\n",
       " 'PASSIVATION ETCH',\n",
       " '2) If done in ASP Chamber of CLREML1 tool. Recipe: TS18SLSTRIP',\n",
       " ':Metal Ti 600',\n",
       " 'Z-M1-STD-WOBARC',\n",
       " 'METAL ETCH 33.',\n",
       " 'Z-METAL-PDUV',\n",
       " 'Z-CV-Al-8000A',\n",
       " 'new recipe',\n",
       " 'METAL1 ME2 10S',\n",
       " 'Sequence: Z-M2-LSH2O-40S',\n",
       " 'standard',\n",
       " 'SCL-M3MIM-WOBARC, Z-M3-NIT-350',\n",
       " 'z-mst-etch',\n",
       " 'Sequence: Z-CCD-M1-ETCH. Recipe: Z-CCD-M1-ETCH.',\n",
       " 'default',\n",
       " 'Z-CCD-ML-ETCH.',\n",
       " 'e: Z-TSL-M1-OE-55 Recipe: Z-TSL-M1-OE-55',\n",
       " 'METAL2 ME2 10S',\n",
       " 'Z-RESP1-EXASHING',\n",
       " 'Metal Etch 91',\n",
       " ':TS18SLSTRIP(if in',\n",
       " 'Z-CV-AL-8000A',\n",
       " 'Z-MT-ETCH-DOE3',\n",
       " 'SCL-ML-ETCH',\n",
       " 'Recipe # 1',\n",
       " 'Z-TSL-M1-OE-601',\n",
       " 'Z-TSL-M1-OE-50',\n",
       " 'SCL-M3MIM-WOBARC',\n",
       " 'z-m1-2070-woash',\n",
       " 'ML-PW-SHORT-OE',\n",
       " 'Z-M1-10:60-WOBARC',\n",
       " 'TS18SLSTRIP',\n",
       " 'X-M2-55-ASH-H2O',\n",
       " 'SCL-ML-ETCH,SCL-ML-ETCH-NOASH',\n",
       " 'AS PER RUN CARD',\n",
       " 'Sequence: Z-TSL-M1-OE-55 Recipe: Z-TSL-M1-OE-55',\n",
       " 'wf-10(Z-M1-GR1-OE-80S) wf-11(Z-M1-GR1-OECL-15)',\n",
       " 'In Remarks',\n",
       " 'TS18SLSRTRIP',\n",
       " 'TS18SLSTRIP(if i',\n",
       " 'ASP CLEAN',\n",
       " ':  Recipe: Z-TSL-M1-OE-55',\n",
       " 'SCL-M3-MIM-ETCH',\n",
       " 'Z-M2-LSH2O-60S',\n",
       " 'Z-M2-CHF3-14']"
      ]
     },
     "execution_count": 18,
     "metadata": {},
     "output_type": "execute_result"
    }
   ],
   "source": [
    "# fetch all the unique recipes in this equipment/chamber by `*_equip_names` list\n",
    "recipes_reml1 = list(set(df_reml1[\"RecipeUsedOnEquip\"].to_list()))\n",
    "recipes_reml1"
   ]
  },
  {
   "cell_type": "markdown",
   "metadata": {},
   "source": [
    "----------------------------------------------------------------------------------------------------------------"
   ]
  },
  {
   "cell_type": "markdown",
   "metadata": {},
   "source": [
    "### Recipes run in REOX1"
   ]
  },
  {
   "cell_type": "code",
   "execution_count": 20,
   "metadata": {},
   "outputs": [
    {
     "data": {
      "text/plain": [
       "['REOX1A', 'REOX1C', 'CLREOX1', 'REOX1B']"
      ]
     },
     "execution_count": 20,
     "metadata": {},
     "output_type": "execute_result"
    }
   ],
   "source": [
    "# show the equip names by which the entry has been done in DMIS\n",
    "reox1_equip_names = [e for e in equip_list_unique if \"REOX1\" in e]\n",
    "reox1_equip_names"
   ]
  },
  {
   "cell_type": "code",
   "execution_count": 21,
   "metadata": {
    "scrolled": true
   },
   "outputs": [
    {
     "data": {
      "text/html": [
       "<div>\n",
       "<style scoped>\n",
       "    .dataframe tbody tr th:only-of-type {\n",
       "        vertical-align: middle;\n",
       "    }\n",
       "\n",
       "    .dataframe tbody tr th {\n",
       "        vertical-align: top;\n",
       "    }\n",
       "\n",
       "    .dataframe thead th {\n",
       "        text-align: right;\n",
       "    }\n",
       "</style>\n",
       "<table border=\"1\" class=\"dataframe\">\n",
       "  <thead>\n",
       "    <tr style=\"text-align: right;\">\n",
       "      <th></th>\n",
       "      <th>EquipID</th>\n",
       "      <th>RecipeUsedOnEquip</th>\n",
       "      <th>ActualDateIn</th>\n",
       "      <th>LotId</th>\n",
       "    </tr>\n",
       "  </thead>\n",
       "  <tbody>\n",
       "    <tr>\n",
       "      <th>8439</th>\n",
       "      <td>CLREOX1</td>\n",
       "      <td>Z-CCD-VL-DOE1</td>\n",
       "      <td>18-03-2020 21:19</td>\n",
       "      <td>S20130002.F1</td>\n",
       "    </tr>\n",
       "    <tr>\n",
       "      <th>8440</th>\n",
       "      <td>CLREOX1</td>\n",
       "      <td>Z-ARCCCDPAD-DOE4</td>\n",
       "      <td>04-04-2019 15:13</td>\n",
       "      <td>F18180001.F7</td>\n",
       "    </tr>\n",
       "    <tr>\n",
       "      <th>8441</th>\n",
       "      <td>CLREOX1</td>\n",
       "      <td>Z-CCD-PD-ETCH</td>\n",
       "      <td>05-03-2019 17:32</td>\n",
       "      <td>R17380003.F1</td>\n",
       "    </tr>\n",
       "    <tr>\n",
       "      <th>8442</th>\n",
       "      <td>CLREOX1</td>\n",
       "      <td>Z-CCD-PD-ETCH</td>\n",
       "      <td>05-03-2019 15:47</td>\n",
       "      <td>F18090002.F5</td>\n",
       "    </tr>\n",
       "    <tr>\n",
       "      <th>8443</th>\n",
       "      <td>CLREOX1</td>\n",
       "      <td>Z-CCD-PD-ETCH</td>\n",
       "      <td>04-03-2019 13:35</td>\n",
       "      <td>F18090003.F5</td>\n",
       "    </tr>\n",
       "  </tbody>\n",
       "</table>\n",
       "</div>"
      ],
      "text/plain": [
       "      EquipID RecipeUsedOnEquip      ActualDateIn         LotId\n",
       "8439  CLREOX1     Z-CCD-VL-DOE1  18-03-2020 21:19  S20130002.F1\n",
       "8440  CLREOX1  Z-ARCCCDPAD-DOE4  04-04-2019 15:13  F18180001.F7\n",
       "8441  CLREOX1     Z-CCD-PD-ETCH  05-03-2019 17:32  R17380003.F1\n",
       "8442  CLREOX1     Z-CCD-PD-ETCH  05-03-2019 15:47  F18090002.F5\n",
       "8443  CLREOX1     Z-CCD-PD-ETCH  04-03-2019 13:35  F18090003.F5"
      ]
     },
     "execution_count": 21,
     "metadata": {},
     "output_type": "execute_result"
    }
   ],
   "source": [
    "# create df for \"EquipID\" col values as `*_equip_names` list\n",
    "df_reox1 = df[df[\"EquipID\"].isin(reox1_equip_names)]\n",
    "\n",
    "# first 5 rows\n",
    "df_reox1.head()"
   ]
  },
  {
   "cell_type": "code",
   "execution_count": 24,
   "metadata": {},
   "outputs": [
    {
     "data": {
      "text/plain": [
       "(1384, 4)"
      ]
     },
     "execution_count": 24,
     "metadata": {},
     "output_type": "execute_result"
    }
   ],
   "source": [
    "# get the shape (row, col) of dataframe\n",
    "df_reox1.shape"
   ]
  },
  {
   "cell_type": "code",
   "execution_count": 28,
   "metadata": {},
   "outputs": [
    {
     "data": {
      "text/plain": [
       "['Z-CCD-ML-ETCH1',\n",
       " 'Z-ARCCCDPAD-DOE3',\n",
       " 'C:RAA ETCH',\n",
       " 'Z-CS-CCD-DOE5',\n",
       " 'Z-TTM-340,375,400(10,11,12)',\n",
       " 'quence: A:PASSIVA.ETCH Recipe: PASSIVATION ETCH',\n",
       " 'Z-CS-SIPM',\n",
       " 'Z-CS-SIPM-90',\n",
       " 'Z-CCD-TWO STEP',\n",
       " 'RAA-ETCH',\n",
       " 'Z-SIPM-ARC-ETCH',\n",
       " 'raa etch',\n",
       " 'Z-CCD-TWO STEP AND Z-CCD-30 50',\n",
       " 'Z-TTM-375',\n",
       " 'Z-RAA-ETCH',\n",
       " 'VIA ETCH',\n",
       " 'Z CS ETH 0G 150S',\n",
       " 'Z-PD-SIPM',\n",
       " 'B:PASSIVATION ETCH',\n",
       " 'AS PER SPLIT PLAN',\n",
       " 'Z-CCD-CS-NEW',\n",
       " 'Z-CCD-CS_NEW',\n",
       " 'z-ccd-cs-doe1',\n",
       " 'Z-CCD-VL-DOE1',\n",
       " 'Z-CCD-PD-ETCH1',\n",
       " 'PASSI.ETCH TIN',\n",
       " 'CNT ETCH 11',\n",
       " 'Z-CCD-VL-DOE1.',\n",
       " 'Z CS BARC ETCH0G',\n",
       " 'Z-CS-SIPM-100',\n",
       " 'Z-CCD-PD-ETCH-B',\n",
       " 'C:RAA ETCH.',\n",
       " 'SCL-CS-NEW',\n",
       " 'Z-CS-CCD-DOE2',\n",
       " 'Z-CS_CCD_DOE4',\n",
       " 'BARC ER',\n",
       " 'B:Z-CCD-VL-DOE1.',\n",
       " 'PASSIVATION ETCH\"',\n",
       " 'B:PASSIVA.ETCH',\n",
       " 'Z-CCD-CS NEW.',\n",
       " 'Z-CCDC-CS NEW',\n",
       " 'A:PASSIVA.ETCHA:PASSIVA.ETCH',\n",
       " 'TTM PAD ETCH',\n",
       " 'PASSIVATION  ETCH',\n",
       " 'CNT BARC ONLY',\n",
       " 'Z-CCD-CS-210S',\n",
       " 'arc ccd pad',\n",
       " 'C:RAA WOBARC',\n",
       " 'B:PhotositeExp',\n",
       " 'Z-CS-CCD-DOE4',\n",
       " 'Z-CCD-CS-230S',\n",
       " 'Z-CS-SIPM-80',\n",
       " 'RAA ETCH WO BARC',\n",
       " 'Z-CCD-CS-170S',\n",
       " 'Z-CCD-V2-DOE1 ME 2 min 50 sec',\n",
       " 'Z-CCD-CS-170s',\n",
       " 'Z-CCD-PD-ETCH',\n",
       " 'PASSIVA.ETCH',\n",
       " 'as per remarks',\n",
       " 'Sequence: A:PASSIVA.ETCH Recipe: PASSIVATION ETCH',\n",
       " 'Z-OTP-ONO-ETCH',\n",
       " 'B:PASSIVA ETCH',\n",
       " 'PASSIVATION ETCH2',\n",
       " 'Z-CCD-CS-150S',\n",
       " 'NAME?',\n",
       " 'Z-CCD-CS NEW',\n",
       " 'Z-CCD-PD-ETCH(120Sec)',\n",
       " 'BPSG Etch',\n",
       " 'RAA ETCH\"',\n",
       " 'Z-VIA ETCH 200S',\n",
       " 'via etch',\n",
       " 'Z-VIA ETCH 0G',\n",
       " 'Z-CS-CCD-DOE3',\n",
       " 'Z-CCD-V2-DOE2',\n",
       " 'Z-VIA ETCH CHC',\n",
       " 'Z-Pad Etch225/PASSIVATION ETCH/Z-PadEtch275',\n",
       " 'Z-CCD-PD-ETCH.',\n",
       " 'See Remarks',\n",
       " 'A:PASSIV.ETCH',\n",
       " 'CONTACT-ER',\n",
       " 'Z-C1D-SPACER',\n",
       " 'Z_PD_SIPM',\n",
       " 'Z-CS-SIPM-60',\n",
       " 'A:Passivation Etch',\n",
       " 'RAA WO BARC ETCH',\n",
       " 'A:PASS.ETCH TIN',\n",
       " 'cs etch',\n",
       " 'C:RAA SOI',\n",
       " 'Z-CCD-V2-DOE1',\n",
       " 'SCL_CS_NEW',\n",
       " 'Photosite Exp',\n",
       " ': C:RAA ETCH; Re',\n",
       " 'Z-CS-SIPM AND Z-CS-SIPM-60',\n",
       " 'see remarks',\n",
       " 'RAA ETCH',\n",
       " 'Z-C1D-SPACER (75s)',\n",
       " 'Z-RAA-SOI',\n",
       " 'VIA-BARC ETCH',\n",
       " 'Z-CCD-CS-190S',\n",
       " 'Z_PD_SIPM1',\n",
       " 'RAA-ER',\n",
       " 'Z-C1D-VIA-RAIL',\n",
       " 'z-ARCCCDPAD-DOE4',\n",
       " 'Z-CS-SIPM-BC',\n",
       " 'Z-CS ETCH 0G',\n",
       " 'Passivation etch',\n",
       " 'engineering recipes see remarks',\n",
       " 'PASSIVATION ETCH250',\n",
       " 'Z VIA OLD 1400RF(11),Z VIA1400W 185S',\n",
       " 'VIA-ETCH',\n",
       " 'Z-CCD-CS-190s',\n",
       " 'as per run card',\n",
       " 'Z-CS-DOE2',\n",
       " 'Z-ARCCCDPAD_DOE2',\n",
       " 'Z-VIAETCH200S',\n",
       " 'BARCER1-33S',\n",
       " 'RAA WOBARC ETCH',\n",
       " 'Z-STI-HARD',\n",
       " 'C: RAA ETCH',\n",
       " 'Z-CCD-V2-10K',\n",
       " 'via-etch',\n",
       " 'PASSIVATION ETCH',\n",
       " 'Z-ARCCCDPAD--DOE4',\n",
       " 'A:PASSIVA. ETCH',\n",
       " 'Z-CS-SIPM-70',\n",
       " 'B: PASSIVATION ETCH',\n",
       " 'A:PASSIVA.ETCH Recipe: PASSIVATION ETCH',\n",
       " 'C: RAA WO BARC',\n",
       " 'Z-ONO-OTP',\n",
       " 'Z-CCD-TWO STEPS',\n",
       " 'A:PASSIVA.ETCH',\n",
       " 'Z-CCD-TWO-STEP',\n",
       " 'default',\n",
       " 'CS Etch',\n",
       " 'C:RAA ETCH;',\n",
       " 'RAA SOI, RAA ETCH',\n",
       " 'Z-ARCCCDPAD-DOE1',\n",
       " ':Z-CCD-ER 20 50.',\n",
       " 'B:PASSIVAION ETCH',\n",
       " 'Z?-?CCD?-?CS?-?15?0?S?',\n",
       " 'RAA PARTICLES CHECK',\n",
       " 'Z-CCD-CS-7000',\n",
       " 'Z-ARCCCDPAD-DOE4',\n",
       " 'B:PASSIVA. ETCH',\n",
       " 'Z-CCD-CS-170s.',\n",
       " 'Sequence: Z-TTM-375 Recipe: Z-TTM-375',\n",
       " 'C:RAA ETCH; R',\n",
       " 'Z-CCD-ER 20 50',\n",
       " 'TS18SLSTRIP',\n",
       " 'A:PASSIVA.ETCH250',\n",
       " 'PASS-ETCH',\n",
       " 'PASSIVATION ETCH :B',\n",
       " 'Z-HARD-ETCH',\n",
       " 'passivation etch',\n",
       " 'SCL RAA ETCH']"
      ]
     },
     "execution_count": 28,
     "metadata": {},
     "output_type": "execute_result"
    }
   ],
   "source": [
    "# fetch all the unique recipes in this equipment/chamber by `*_equip_names` list\n",
    "recipes_reox1 = list(set(df_reox1[\"RecipeUsedOnEquip\"].to_list()))\n",
    "recipes_reox1"
   ]
  },
  {
   "cell_type": "markdown",
   "metadata": {},
   "source": [
    "----------------------------------------------------------------------------------------------------------------"
   ]
  },
  {
   "cell_type": "markdown",
   "metadata": {},
   "source": [
    "### Recipes run in REPL1"
   ]
  },
  {
   "cell_type": "code",
   "execution_count": 29,
   "metadata": {},
   "outputs": [
    {
     "data": {
      "text/plain": [
       "['REPL1A', 'CLREPL1', 'REPL1B']"
      ]
     },
     "execution_count": 29,
     "metadata": {},
     "output_type": "execute_result"
    }
   ],
   "source": [
    "# show the equip names by which the entry has been done in DMIS\n",
    "repl1_equip_names = [e for e in equip_list_unique if \"REPL1\" in e]\n",
    "repl1_equip_names"
   ]
  },
  {
   "cell_type": "code",
   "execution_count": 30,
   "metadata": {},
   "outputs": [
    {
     "data": {
      "text/html": [
       "<div>\n",
       "<style scoped>\n",
       "    .dataframe tbody tr th:only-of-type {\n",
       "        vertical-align: middle;\n",
       "    }\n",
       "\n",
       "    .dataframe tbody tr th {\n",
       "        vertical-align: top;\n",
       "    }\n",
       "\n",
       "    .dataframe thead th {\n",
       "        text-align: right;\n",
       "    }\n",
       "</style>\n",
       "<table border=\"1\" class=\"dataframe\">\n",
       "  <thead>\n",
       "    <tr style=\"text-align: right;\">\n",
       "      <th></th>\n",
       "      <th>EquipID</th>\n",
       "      <th>RecipeUsedOnEquip</th>\n",
       "      <th>ActualDateIn</th>\n",
       "      <th>LotId</th>\n",
       "    </tr>\n",
       "  </thead>\n",
       "  <tbody>\n",
       "    <tr>\n",
       "      <th>8616</th>\n",
       "      <td>CLREPL1</td>\n",
       "      <td>Z-C1D-GC-OE-15(1,2) and Z-C1D-GC-HESET(wf 3-15))</td>\n",
       "      <td>19-09-2018 09:28</td>\n",
       "      <td>S17390001.F1</td>\n",
       "    </tr>\n",
       "    <tr>\n",
       "      <th>8617</th>\n",
       "      <td>CLREPL1</td>\n",
       "      <td>Z-C1D-GC-OE-15</td>\n",
       "      <td>16-09-2018 12:04</td>\n",
       "      <td>F18090003.F1</td>\n",
       "    </tr>\n",
       "    <tr>\n",
       "      <th>8618</th>\n",
       "      <td>CLREPL1</td>\n",
       "      <td>Z-C1D-GC-OE-15</td>\n",
       "      <td>30-08-2018 09:40</td>\n",
       "      <td>R17380003.F1</td>\n",
       "    </tr>\n",
       "    <tr>\n",
       "      <th>8619</th>\n",
       "      <td>CLREPL1</td>\n",
       "      <td>Z-C1D-GC-OE-15</td>\n",
       "      <td>29-08-2018 00:38</td>\n",
       "      <td>F18090002.F1</td>\n",
       "    </tr>\n",
       "    <tr>\n",
       "      <th>8620</th>\n",
       "      <td>CLREPL1</td>\n",
       "      <td>Z-C1D-AA-DOE2</td>\n",
       "      <td>30-05-2018 17:30</td>\n",
       "      <td>F18090003.F1</td>\n",
       "    </tr>\n",
       "  </tbody>\n",
       "</table>\n",
       "</div>"
      ],
      "text/plain": [
       "      EquipID                                 RecipeUsedOnEquip  \\\n",
       "8616  CLREPL1  Z-C1D-GC-OE-15(1,2) and Z-C1D-GC-HESET(wf 3-15))   \n",
       "8617  CLREPL1                                    Z-C1D-GC-OE-15   \n",
       "8618  CLREPL1                                    Z-C1D-GC-OE-15   \n",
       "8619  CLREPL1                                    Z-C1D-GC-OE-15   \n",
       "8620  CLREPL1                                     Z-C1D-AA-DOE2   \n",
       "\n",
       "          ActualDateIn         LotId  \n",
       "8616  19-09-2018 09:28  S17390001.F1  \n",
       "8617  16-09-2018 12:04  F18090003.F1  \n",
       "8618  30-08-2018 09:40  R17380003.F1  \n",
       "8619  29-08-2018 00:38  F18090002.F1  \n",
       "8620  30-05-2018 17:30  F18090003.F1  "
      ]
     },
     "execution_count": 30,
     "metadata": {},
     "output_type": "execute_result"
    }
   ],
   "source": [
    "# create df for \"EquipID\" col values as `*_equip_names` list\n",
    "df_repl1 = df[df[\"EquipID\"].isin(repl1_equip_names)]\n",
    "\n",
    "# first 5 rows\n",
    "df_repl1.head()"
   ]
  },
  {
   "cell_type": "code",
   "execution_count": 31,
   "metadata": {},
   "outputs": [
    {
     "data": {
      "text/plain": [
       "(1737, 4)"
      ]
     },
     "execution_count": 31,
     "metadata": {},
     "output_type": "execute_result"
    }
   ],
   "source": [
    "# get the shape (row, col) of dataframe\n",
    "df_repl1.shape"
   ]
  },
  {
   "cell_type": "code",
   "execution_count": 32,
   "metadata": {},
   "outputs": [
    {
     "data": {
      "text/plain": [
       "[nan,\n",
       " 'Z-CCD-AA-DOE1-63',\n",
       " 'Z-STI-DOE1',\n",
       " 'Z-CCD-P1-DOE2',\n",
       " 'z-ccd-aa etch',\n",
       " 'A:Z-CCDAADOE1-63',\n",
       " 'Z-STI64-AA ETCH',\n",
       " 'Z-SCMP-GC-ETCH',\n",
       " 'Z-SOI-AA WO SCS',\n",
       " 'Z-CCD-RAA-DOE1.',\n",
       " 'DEMOS-AA-ETCH',\n",
       " 'GC ETH',\n",
       " 'Default',\n",
       " 'B: AA-ETCH',\n",
       " 'AS per Split Plan',\n",
       " 'Z-C1D-GC-ETCH2',\n",
       " 'Z-GC-ETCH-ME1-45 (BT 12 sec)',\n",
       " 'Z-LDMOS-OAA',\n",
       " 'Z-CCD-P2-NOSL and B:-CCD-P2-NOSL',\n",
       " 'Z-SiPM_AA_NO_BARC',\n",
       " 'Z-AA-ETCH-DOE1',\n",
       " 'Dry Clean recipe',\n",
       " 'Z-GC-Etch-ME1-45',\n",
       " 'Z-CCD-P2-17NOO3',\n",
       " 'Z-BJT-2POLY-500',\n",
       " 'SCL-AA-ETCH',\n",
       " 'Z-CCD-RAA-DOE2',\n",
       " 'SCL-AA-ETCH-WOPR',\n",
       " 'Z-CCD-ONO-ETCH',\n",
       " 'Z-BJT-POLY-ETCH',\n",
       " '3',\n",
       " 'GC2ETCH',\n",
       " 'GC-ETCH   Z-GC-ETCH-ME1-45',\n",
       " 'Poly Etch',\n",
       " '2',\n",
       " 'SCL AA-ETCH-72',\n",
       " 'Z-CMOS-MEMS-GC',\n",
       " 'Z- AA ETCH 63S and Z- AA ETCH 77S',\n",
       " 'z-ccd-p1-doe2',\n",
       " 'AS per split plan 7 splits in OE',\n",
       " 'AA-Etch',\n",
       " 'Z-SIPM-AA-NOBARC',\n",
       " 'SCL AA-ETCH-76',\n",
       " 'Z-SIPMGC1',\n",
       " 'Z-C1D-AA-DOE2',\n",
       " 'GC ETCH',\n",
       " 'aa etch',\n",
       " 'B:AA ETCH',\n",
       " 'Sequence name; Z-GC-ETCH-ME1-45  Recipe: Z-GC-ETCH-ME1-45',\n",
       " 'SCL AA-ETCH-60',\n",
       " 'SCL AA-ETCH-35',\n",
       " 'Z-AA-ETCH-LP',\n",
       " 'see paper runcard. Experiments were run to get EP.',\n",
       " 'test',\n",
       " 'Z-CCD-P1-ME2-60W',\n",
       " 'Z-CCD-CB-DOE1',\n",
       " 'Z-GC-ETCH-ME1-45',\n",
       " 'Z-GC ETCH-OE-45S',\n",
       " 'Z-CCCD-P2-DOE11',\n",
       " 'Z-CCCD-P2-DOE7',\n",
       " 'Z-CCD-P1-DOE3',\n",
       " 'Z-GC-ETCH-ME1-45(BT-12s)',\n",
       " 'Z-CCD-P2-DOE11',\n",
       " 'SCL AA-ETCH-74',\n",
       " 'Z-LDMOS-0AA',\n",
       " 'B:Z-CCD-P2-DOE7',\n",
       " 'Z-CCD-P2-DOE17',\n",
       " 'A:AA-ETCH',\n",
       " 'Z-CCD-P2-DOE17,Z-CCD-P2-17WOISO',\n",
       " 'SCL AA-ETCH-70',\n",
       " 'STD and Z-AA-ETCH-LP',\n",
       " 'AA Etch',\n",
       " 'Z-SOI-AAETCH',\n",
       " 'Z-FIN-GC-DOE3',\n",
       " 'Z-STI67-AA ETCH',\n",
       " 'Z-SIPM_OAA',\n",
       " 'z-soi-aa 30s',\n",
       " 'SCL AA-ETCH-NOSI',\n",
       " 'A:Z-CCD-AA-DOE1',\n",
       " 'Z-SIPM-0AA',\n",
       " 'Z-CCD-RAA-DOE1',\n",
       " 'Z-SIPM_AA_NOBARC',\n",
       " 'SCL AA ETCH',\n",
       " 'Z-GC-OE-75MT',\n",
       " 'A:GC ETCH',\n",
       " 'Gc ETH',\n",
       " 'Z-DSTI-DOE1+Z-DSTI-DOE2',\n",
       " 'SCL AA-ETCH- 64',\n",
       " 'Z-CCD-P2-DOE7',\n",
       " 'AS PER RUNCARD',\n",
       " 'Z-CCD-AA-DOE1 and Z-CCD-AA-DOE-631',\n",
       " 'Sequence: AA-ETCH Recipe:',\n",
       " 'Z-CCD-P1-DOE2 ,3,4,5,6',\n",
       " 'Z-CCD-HOLE-DOE1',\n",
       " 'See the remark',\n",
       " 'BARC+SiN Step',\n",
       " 'Z-CCD-AA-DOE1',\n",
       " 'z-c1d-aa-doe2',\n",
       " 'Z-CCD-P2-DOE2',\n",
       " 'Z-CCD-P1-DOE6',\n",
       " 'Z-BJT-POLY-W2000',\n",
       " 'Z-C1D-GC-WO-OE',\n",
       " 'Recipe: Z-CCD-AA-DOE1',\n",
       " 'Z-CCD-P2-DOE12',\n",
       " 'Z-C1D-AA-DOE1',\n",
       " 'EXPT RECIPE',\n",
       " 'SCL AA-ETCH-77',\n",
       " 'Z-CCD-P2-DOE11-B',\n",
       " 'Z_BJT_POLY_ETCH',\n",
       " 'Z-DSTI-DOE1',\n",
       " 'Z-CCD-P1DOE3 and DOE2',\n",
       " 'attached excel',\n",
       " 'As Per Split Plan',\n",
       " 'Z-CCD-P2-DOE12 and Z-CCD-RAA-DOE2',\n",
       " '-Nitride-1 Etch',\n",
       " 'Z-CCD-P1-ONO',\n",
       " 'Z-C1D-GC-OE-15',\n",
       " 'Z-SOI-AA-WO SCS',\n",
       " 'z-ccd-p1-doe3',\n",
       " 'Z-AA-WITH-ARSPTR',\n",
       " 'SCL-SCMP-GC-ETCH(BT-12s)',\n",
       " 'GC-ETCH',\n",
       " 'Z-CCD-P1-DOE1',\n",
       " 'AA',\n",
       " 'Z-SIPM-AA-NOBAR',\n",
       " 'SCL AA-ETCH',\n",
       " 'Z-CCD-P2-DOE7-B',\n",
       " 'as per runcard/mail',\n",
       " 'WF#08 Z-GC-ETCH-ME1-45 WF#09 Z-SCMP-GC-ETCH',\n",
       " 'Z-CCD-AA-DOE1-67',\n",
       " 'as per run card',\n",
       " 'Recipe: Z-GC-ETCH-ME1-45',\n",
       " 'AA-ETCH-BG',\n",
       " 'GC-ETCH-ME1-45',\n",
       " 'Z-CCD-AA ETCH',\n",
       " 'Z-STI72-AA ETCH',\n",
       " 'Z-CCD-P1-WONO',\n",
       " 'Z-CCD-Poly-Hole2,Z-CCD-Poly-Hole1',\n",
       " 'AA-ETCH-SCMP23',\n",
       " 'Z-STI-DOE1 Z-STI-DOE2',\n",
       " 'Sequence: SCL AA-ETCH Recipe: SCL AA-ETCH',\n",
       " 'A:Z-CCD-AA-DOE1-63',\n",
       " 'Z-GC-BIAS-60W',\n",
       " 'Z-STI-DOE1 and DOE2',\n",
       " 'B:Z-CCD-P1-DOE3',\n",
       " 'Z?-?CCD?-?AA?-?DOE?1?',\n",
       " 'Z-P2-NOSLISO-OE',\n",
       " 'Z-CCD-Poly-Hole',\n",
       " 'Z-C1D-GC-OE-15(1,2) and Z-C1D-GC-HESET(wf 3-15))',\n",
       " ': AA-ETCH Recipe:',\n",
       " 'Z-C1D-GC-ETCH',\n",
       " 'Z-CCD-P1-DOE3,Z-CCD-P1-4500A',\n",
       " 'AA ETCH',\n",
       " 'Z-GC-SCMP16',\n",
       " 'A:GC-ETCH',\n",
       " 'Z-SIPM GC1',\n",
       " 'SCL AA-ETCH-64',\n",
       " 'scl aa etch',\n",
       " ': Z-GC-ETCH-ME1-45',\n",
       " 'default',\n",
       " 'Z-CCD-P2-NOSLISO',\n",
       " 'Z-GC ETCH NEW',\n",
       " 'SCL AA-ETCH-57',\n",
       " 'SiN ER',\n",
       " 'Z-CCD-P1-DOE3 ,Z-CCD-P1-ME2-60W',\n",
       " 'Z-FIN-GC-DOE1(8),Z-FIN-GC-DOE2(1)',\n",
       " 'Z-SIPM-GC1',\n",
       " 'Z-GC-ETCH-ME-45sec',\n",
       " 'Z-GC-ETCH-ME1-45 GC ETCH',\n",
       " 'A:AA ETCH',\n",
       " 'SCL AA SCMP11,12',\n",
       " 'B: AA ETCH',\n",
       " 'Z-CCD-P1-DOE3WOP',\n",
       " 'Z-SCL-AA-ETCH',\n",
       " 'AA-ETCH',\n",
       " 'SCL-SCMP-GC-ETCH',\n",
       " 'Z-CCD-P2-ISO-ETH']"
      ]
     },
     "execution_count": 32,
     "metadata": {},
     "output_type": "execute_result"
    }
   ],
   "source": [
    "# fetch all the unique recipes in this equipment/chamber by `*_equip_names` list\n",
    "recipes_repl1 = list(set(df_repl1[\"RecipeUsedOnEquip\"].to_list()))\n",
    "recipes_repl1"
   ]
  },
  {
   "cell_type": "markdown",
   "metadata": {},
   "source": [
    "----------------------------------------------------------------------------------------------------------------"
   ]
  },
  {
   "cell_type": "markdown",
   "metadata": {},
   "source": [
    "### Recipes run in RESP1"
   ]
  },
  {
   "cell_type": "code",
   "execution_count": 33,
   "metadata": {},
   "outputs": [
    {
     "data": {
      "text/plain": [
       "['RESP1A', 'RESP1B', 'CLRESP1']"
      ]
     },
     "execution_count": 33,
     "metadata": {},
     "output_type": "execute_result"
    }
   ],
   "source": [
    "# show the equip names by which the entry has been done in DMIS\n",
    "resp1_equip_names = [e for e in equip_list_unique if \"RESP1\" in e]\n",
    "resp1_equip_names"
   ]
  },
  {
   "cell_type": "code",
   "execution_count": 34,
   "metadata": {
    "scrolled": true
   },
   "outputs": [
    {
     "data": {
      "text/html": [
       "<div>\n",
       "<style scoped>\n",
       "    .dataframe tbody tr th:only-of-type {\n",
       "        vertical-align: middle;\n",
       "    }\n",
       "\n",
       "    .dataframe tbody tr th {\n",
       "        vertical-align: top;\n",
       "    }\n",
       "\n",
       "    .dataframe thead th {\n",
       "        text-align: right;\n",
       "    }\n",
       "</style>\n",
       "<table border=\"1\" class=\"dataframe\">\n",
       "  <thead>\n",
       "    <tr style=\"text-align: right;\">\n",
       "      <th></th>\n",
       "      <th>EquipID</th>\n",
       "      <th>RecipeUsedOnEquip</th>\n",
       "      <th>ActualDateIn</th>\n",
       "      <th>LotId</th>\n",
       "    </tr>\n",
       "  </thead>\n",
       "  <tbody>\n",
       "    <tr>\n",
       "      <th>8667</th>\n",
       "      <td>CLRESP1</td>\n",
       "      <td>Done at TSL</td>\n",
       "      <td>07-04-2016 17:18</td>\n",
       "      <td>S16060002.F4</td>\n",
       "    </tr>\n",
       "    <tr>\n",
       "      <th>8668</th>\n",
       "      <td>CLRESP1</td>\n",
       "      <td>barch etch</td>\n",
       "      <td>07-04-2016 14:20</td>\n",
       "      <td>S16060002.F5</td>\n",
       "    </tr>\n",
       "    <tr>\n",
       "      <th>8669</th>\n",
       "      <td>CLRESP1</td>\n",
       "      <td>1(BARCER1),5(BARCER2),9(BARCER9))</td>\n",
       "      <td>05-04-2016 12:18</td>\n",
       "      <td>S16060002.F2</td>\n",
       "    </tr>\n",
       "    <tr>\n",
       "      <th>8670</th>\n",
       "      <td>CLRESP1</td>\n",
       "      <td>1(BARCER1),5(BARCER2),9(BARCER9))</td>\n",
       "      <td>05-04-2016 12:15</td>\n",
       "      <td>S16060002.F2</td>\n",
       "    </tr>\n",
       "    <tr>\n",
       "      <th>8671</th>\n",
       "      <td>CLRESP1</td>\n",
       "      <td>1(BARCER1),5(BARCER2),9(BARCER9))</td>\n",
       "      <td>05-04-2016 12:11</td>\n",
       "      <td>S16060002.F2</td>\n",
       "    </tr>\n",
       "  </tbody>\n",
       "</table>\n",
       "</div>"
      ],
      "text/plain": [
       "      EquipID                  RecipeUsedOnEquip      ActualDateIn  \\\n",
       "8667  CLRESP1                        Done at TSL  07-04-2016 17:18   \n",
       "8668  CLRESP1                         barch etch  07-04-2016 14:20   \n",
       "8669  CLRESP1  1(BARCER1),5(BARCER2),9(BARCER9))  05-04-2016 12:18   \n",
       "8670  CLRESP1  1(BARCER1),5(BARCER2),9(BARCER9))  05-04-2016 12:15   \n",
       "8671  CLRESP1  1(BARCER1),5(BARCER2),9(BARCER9))  05-04-2016 12:11   \n",
       "\n",
       "             LotId  \n",
       "8667  S16060002.F4  \n",
       "8668  S16060002.F5  \n",
       "8669  S16060002.F2  \n",
       "8670  S16060002.F2  \n",
       "8671  S16060002.F2  "
      ]
     },
     "execution_count": 34,
     "metadata": {},
     "output_type": "execute_result"
    }
   ],
   "source": [
    "# create df for \"EquipID\" col values as `*_equip_names` list\n",
    "df_resp1 = df[df[\"EquipID\"].isin(resp1_equip_names)]\n",
    "\n",
    "# first 5 rows\n",
    "df_resp1.head()"
   ]
  },
  {
   "cell_type": "code",
   "execution_count": 35,
   "metadata": {},
   "outputs": [
    {
     "data": {
      "text/plain": [
       "(3251, 4)"
      ]
     },
     "execution_count": 35,
     "metadata": {},
     "output_type": "execute_result"
    }
   ],
   "source": [
    "# get the shape (row, col) of dataframe\n",
    "df_resp1.shape"
   ]
  },
  {
   "cell_type": "code",
   "execution_count": 36,
   "metadata": {},
   "outputs": [
    {
     "data": {
      "text/plain": [
       "['Z-CCD-CS-BC100',\n",
       " 'SPACER_OE_13s',\n",
       " 'barch etch',\n",
       " 'BARCER1-28S',\n",
       " 'Z-VL-13-NOASH',\n",
       " ':Z-VIA-DOE13',\n",
       " 'Z-VIA_DOE13',\n",
       " 'Z-RAA-ETCH',\n",
       " '1(BARCER1),5(BARCER2),9(BARCER9))',\n",
       " 'Recipe:Z-CS-DOE1',\n",
       " 'VIA ETCH',\n",
       " 'z via last mim',\n",
       " 'AS per Split Plan',\n",
       " '(wF# 18, DOE-Z-CS-DOE7)(wF# 23, DOE-Z-CS-DOE8) (wF# 24, DOE-Z-CS-DOE9)(wF# 25, DOE-Z-CS-DOE10)',\n",
       " 'SPACER-C1D',\n",
       " ': BARCER1-33S',\n",
       " 'Z-CCD-VL-DOE1',\n",
       " 'See the Remark',\n",
       " 'Z-CCD-CS-BC110',\n",
       " 'Z-CCD-VL-DOE1.',\n",
       " 'Z-VIA-DOE13 AND Z-VIA-SHORT-ME',\n",
       " 'Z-VIA-SHORT-ME',\n",
       " 'Z-TSL-M1-OE-55',\n",
       " 'Wf 6. Z-VIA+ASH.1MIN; WF 7. Z-VA+ASH1MIN150W; WF 8. ZVA-1M.150W.45MT',\n",
       " 'BARCER1',\n",
       " 'Spacer-ETCH',\n",
       " 'Z-OTP-ONO-Etch',\n",
       " 'Z-VIA-I-13-NOASH',\n",
       " ':Z-VIA-DOE13-150S',\n",
       " 'Z-VIA-DOE13.',\n",
       " '2',\n",
       " 'Done at TSL',\n",
       " 'BARCER1-38S',\n",
       " 'Z-C1D-SPCER-DOE1',\n",
       " 'Z-CS-SHORT-BC',\n",
       " 'Z-VIA-DOE13 on wf#6,13; engineering recipe on other 2 wafers',\n",
       " 'Z-VIA-DOE19',\n",
       " 'Z-VIA-MIM-NOASH',\n",
       " 'Recipe: SPACER-OE-13S.',\n",
       " 'SPACER-OE-13S',\n",
       " 'as per the split plan',\n",
       " 'Z-CS-DOE1',\n",
       " 'cipe:Z-CS-DOE1',\n",
       " 'Z-CS-DOE-13',\n",
       " 'Z-OTP-ONO-ETCH',\n",
       " 'Recipe: BARCER1-33S',\n",
       " 'Recipe:Z-VIA-DOE13-150S',\n",
       " 'Z-VIA-DOE13-150S',\n",
       " 'Z-VIA-LONG-ME',\n",
       " 'SPACER-ETCH',\n",
       " 'SPACER-OE 13',\n",
       " 'BARC+ME120SEC',\n",
       " 'SPACER-BETTER-ROX',\n",
       " 'SPACER- OE-13S',\n",
       " 'ME-ER-40',\n",
       " 'Z-C1D-SPACER',\n",
       " 'SPACER- OE- 13S',\n",
       " 'Z-VIA-DOE8',\n",
       " 'Recipe:Z-VIA-DOE13',\n",
       " 'z-via-doe13',\n",
       " 'SPACER-BET-ROX',\n",
       " 'Z-CCD-V2-DOE1',\n",
       " 'Z-VIA-DOE13-150S ,   Z-VIA-DOE13',\n",
       " 'barcer1 33s',\n",
       " 'Z-CCD-CS-BC120',\n",
       " 'z-cs-doe1',\n",
       " 'Z-CS-DOE2, Z-CS-DOE3,Z-CS-DOE4,Z-CS-DOE5,Z-CS-DOE6',\n",
       " 'spacer -oe-13s',\n",
       " 'Z-VL-WITH-MIM',\n",
       " 'Z-CS-DOE1 AND Z-CS-DOE11',\n",
       " 'Z-RAA-SOI',\n",
       " 'BARCER1-33S,BARCER028S',\n",
       " 'BARCER1-33s',\n",
       " 'Z-C1D-VIA-RAIL',\n",
       " 'Z-VIA-OTP-155S',\n",
       " 'Z-VIA-DOE13',\n",
       " 'VIAETCH99',\n",
       " 'SPACER-OE-13S.',\n",
       " 'e:Z-VIA-DOE13',\n",
       " 'SPACER OE 13S',\n",
       " 'wf#2 BARCER1(26 S),wf#6 BARCER1(36 S),wf#10 BARCER1(35 S)',\n",
       " 'BARC+ME85SEC',\n",
       " 'BARC-ONLY',\n",
       " 'Z-CS-DOE2',\n",
       " 'Z-CS-DOE13',\n",
       " ':Z-CS-DOE1',\n",
       " 'BARCER1-33S',\n",
       " 'Z-CS-DOE1-NOBC',\n",
       " 'Z-CS-LONG-ME',\n",
       " 'z-via-doe-13',\n",
       " 'Z-VIA-DOE13-150Sec',\n",
       " 'Z-VIA-OTP-150S',\n",
       " 'BARC+ME60SEC',\n",
       " 'Spacer ETCH',\n",
       " 'ME_Time',\n",
       " 'SPACER_CCD',\n",
       " 'ecipe:Z-CS-DOE1',\n",
       " 'SPACER-OE-13SEC',\n",
       " 'z-via-doe13-150s',\n",
       " 'Z-VIA-DOE-13 150s',\n",
       " 'Z-VIA DOE13',\n",
       " 'Z-CS-SHORT-ME',\n",
       " 'Z-VIA-DOE15',\n",
       " 'Z-ONO-OTP',\n",
       " 'standard',\n",
       " 'Via-Etch-DOE9; Via-Etch-DOE10; Via-Etch-DOE11; Via-Etch-DOE12; Via-Etch-DOE13; Via-Etch-DOE14; Via-Etch-DOE15; Via-Etch-DOE16; Via-Etch-DOE17; Via-Etch-DOE18',\n",
       " 'Z-CS-LONG-BC',\n",
       " 'Z-VIA-DOE13-150s',\n",
       " 'Z-CS-DOE-99',\n",
       " 'Z-RESP1-EXASHING',\n",
       " 'Z-VIA-DOE5, Z-VIA-DOE6, Z-VIA-DOE7',\n",
       " 'Z_CS_DOE1',\n",
       " 'Z-VIA+ASH',\n",
       " 'Z-ONO-ETCH',\n",
       " 'SPACER-OE-13S,SPACER-BET-ROX',\n",
       " 'z via doe 13',\n",
       " 'AS PER RUN CARD',\n",
       " 'CP TEST',\n",
       " 'ecipe: BARCER1-33S',\n",
       " 'Z-CS-DOE1-W/OASH',\n",
       " 'Z-CS-DOE0',\n",
       " 'Z-VIA-1-13-NOASH',\n",
       " 'Z--VIA-DOE13']"
      ]
     },
     "execution_count": 36,
     "metadata": {},
     "output_type": "execute_result"
    }
   ],
   "source": [
    "# fetch all the unique recipes in this equipment/chamber by `*_equip_names` list\n",
    "recipes_resp1 = list(set(df_resp1[\"RecipeUsedOnEquip\"].to_list()))\n",
    "recipes_resp1"
   ]
  },
  {
   "cell_type": "markdown",
   "metadata": {},
   "source": [
    "----------------------------------------------------------------------------------------------------------------"
   ]
  }
 ],
 "metadata": {
  "kernelspec": {
   "display_name": "Python 3",
   "language": "python",
   "name": "python3"
  },
  "language_info": {
   "codemirror_mode": {
    "name": "ipython",
    "version": 3
   },
   "file_extension": ".py",
   "mimetype": "text/x-python",
   "name": "python",
   "nbconvert_exporter": "python",
   "pygments_lexer": "ipython3",
   "version": "3.8.5"
  }
 },
 "nbformat": 4,
 "nbformat_minor": 4
}
